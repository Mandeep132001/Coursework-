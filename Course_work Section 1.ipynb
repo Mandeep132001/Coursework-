{
  "nbformat": 4,
  "nbformat_minor": 0,
  "metadata": {
    "colab": {
      "provenance": [],
      "gpuType": "T4",
      "authorship_tag": "ABX9TyMb7mVuuKuHOzShMywAziQC",
      "include_colab_link": true
    },
    "kernelspec": {
      "name": "ir",
      "display_name": "R"
    },
    "language_info": {
      "name": "R"
    },
    "accelerator": "GPU"
  },
  "cells": [
    {
      "cell_type": "markdown",
      "metadata": {
        "id": "view-in-github",
        "colab_type": "text"
      },
      "source": [
        "<a href=\"https://colab.research.google.com/github/Mandeep132001/Coursework-/blob/main/Course_work.ipynb\" target=\"_parent\"><img src=\"https://colab.research.google.com/assets/colab-badge.svg\" alt=\"Open In Colab\"/></a>"
      ]
    },
    {
      "cell_type": "code",
      "execution_count": 1,
      "metadata": {
        "id": "7o2nJwqNnQzx"
      },
      "outputs": [],
      "source": [
        "system(\"git clone https://github.com/Mandeep132001/Coursework-.git\")"
      ]
    },
    {
      "cell_type": "markdown",
      "source": [
        "#How do you import the dataset in Google Colab? (3 Marks)"
      ],
      "metadata": {
        "id": "m7E9JvP7thqn"
      }
    },
    {
      "cell_type": "code",
      "source": [
        "# Load required libraries\n",
        "library(readr)\n",
        "mydata <- read_csv(\"/content/Coursework-/greenfuture_ideas_dataset.csv\")\n",
        "head(mydata)"
      ],
      "metadata": {
        "colab": {
          "base_uri": "https://localhost:8080/",
          "height": 564
        },
        "id": "cJK5SYzpvPrO",
        "outputId": "dc6442a3-5e6c-427d-a088-1db43a1066cb"
      },
      "execution_count": 56,
      "outputs": [
        {
          "output_type": "stream",
          "name": "stderr",
          "text": [
            "\u001b[1mRows: \u001b[22m\u001b[34m3000\u001b[39m \u001b[1mColumns: \u001b[22m\u001b[34m11\u001b[39m\n",
            "\u001b[36m──\u001b[39m \u001b[1mColumn specification\u001b[22m \u001b[36m────────────────────────────────────────────────────────\u001b[39m\n",
            "\u001b[1mDelimiter:\u001b[22m \",\"\n",
            "\u001b[31mchr\u001b[39m (10): Employee ID, Office Location, Department, Idea Submission Date, Id...\n",
            "\u001b[32mdbl\u001b[39m  (1): Number of Votes\n",
            "\n",
            "\u001b[36mℹ\u001b[39m Use `spec()` to retrieve the full column specification for this data.\n",
            "\u001b[36mℹ\u001b[39m Specify the column types or set `show_col_types = FALSE` to quiet this message.\n"
          ]
        },
        {
          "output_type": "display_data",
          "data": {
            "text/html": [
              "<table class=\"dataframe\">\n",
              "<caption>A tibble: 6 × 11</caption>\n",
              "<thead>\n",
              "\t<tr><th scope=col>Employee ID</th><th scope=col>Office Location</th><th scope=col>Department</th><th scope=col>Idea Submission Date</th><th scope=col>Idea Title</th><th scope=col>Idea Category</th><th scope=col>Number of Votes</th><th scope=col>Collaboration Status</th><th scope=col>Approval Status</th><th scope=col>Implementation Status</th><th scope=col>Security Concern Flag</th></tr>\n",
              "\t<tr><th scope=col>&lt;chr&gt;</th><th scope=col>&lt;chr&gt;</th><th scope=col>&lt;chr&gt;</th><th scope=col>&lt;chr&gt;</th><th scope=col>&lt;chr&gt;</th><th scope=col>&lt;chr&gt;</th><th scope=col>&lt;dbl&gt;</th><th scope=col>&lt;chr&gt;</th><th scope=col>&lt;chr&gt;</th><th scope=col>&lt;chr&gt;</th><th scope=col>&lt;chr&gt;</th></tr>\n",
              "</thead>\n",
              "<tbody>\n",
              "\t<tr><td>587b45d8</td><td>Germany  </td><td>Renewable Energy    </td><td>16/04/2024</td><td>Idea 1</td><td>Sustainable Transport</td><td>231</td><td>Single Contributor </td><td>Pending </td><td>Not Started</td><td>No </td></tr>\n",
              "\t<tr><td>0d3e8b8e</td><td>Canada   </td><td>Renewable Energy    </td><td>14/01/2024</td><td>Idea 2</td><td>Water Management     </td><td>477</td><td>Cross-Regional Team</td><td>Approved</td><td>In Progress</td><td>No </td></tr>\n",
              "\t<tr><td>fa012fe7</td><td>France   </td><td>Environmental Policy</td><td>10/01/2025</td><td>Idea 3</td><td>Renewable Energy     </td><td> 48</td><td>Cross-Regional Team</td><td>Approved</td><td>Not Started</td><td>Yes</td></tr>\n",
              "\t<tr><td>cb8ed680</td><td>Japan    </td><td>Technology          </td><td>24/12/2023</td><td>Idea 4</td><td>Circular Economy     </td><td>330</td><td>Cross-Regional Team</td><td>Approved</td><td>Completed  </td><td>No </td></tr>\n",
              "\t<tr><td>333fff26</td><td>Australia</td><td>Technology          </td><td>13/02/2025</td><td>Idea 5</td><td>Circular Economy     </td><td>428</td><td>Single Contributor </td><td>Approved</td><td>Not Started</td><td>No </td></tr>\n",
              "\t<tr><td>a34ebb0f</td><td>India    </td><td>Technology          </td><td>08/09/2024</td><td>Idea 6</td><td>Circular Economy     </td><td>431</td><td>Single Contributor </td><td>Rejected</td><td>Not Started</td><td>No </td></tr>\n",
              "</tbody>\n",
              "</table>\n"
            ],
            "text/markdown": "\nA tibble: 6 × 11\n\n| Employee ID &lt;chr&gt; | Office Location &lt;chr&gt; | Department &lt;chr&gt; | Idea Submission Date &lt;chr&gt; | Idea Title &lt;chr&gt; | Idea Category &lt;chr&gt; | Number of Votes &lt;dbl&gt; | Collaboration Status &lt;chr&gt; | Approval Status &lt;chr&gt; | Implementation Status &lt;chr&gt; | Security Concern Flag &lt;chr&gt; |\n|---|---|---|---|---|---|---|---|---|---|---|\n| 587b45d8 | Germany   | Renewable Energy     | 16/04/2024 | Idea 1 | Sustainable Transport | 231 | Single Contributor  | Pending  | Not Started | No  |\n| 0d3e8b8e | Canada    | Renewable Energy     | 14/01/2024 | Idea 2 | Water Management      | 477 | Cross-Regional Team | Approved | In Progress | No  |\n| fa012fe7 | France    | Environmental Policy | 10/01/2025 | Idea 3 | Renewable Energy      |  48 | Cross-Regional Team | Approved | Not Started | Yes |\n| cb8ed680 | Japan     | Technology           | 24/12/2023 | Idea 4 | Circular Economy      | 330 | Cross-Regional Team | Approved | Completed   | No  |\n| 333fff26 | Australia | Technology           | 13/02/2025 | Idea 5 | Circular Economy      | 428 | Single Contributor  | Approved | Not Started | No  |\n| a34ebb0f | India     | Technology           | 08/09/2024 | Idea 6 | Circular Economy      | 431 | Single Contributor  | Rejected | Not Started | No  |\n\n",
            "text/latex": "A tibble: 6 × 11\n\\begin{tabular}{lllllllllll}\n Employee ID & Office Location & Department & Idea Submission Date & Idea Title & Idea Category & Number of Votes & Collaboration Status & Approval Status & Implementation Status & Security Concern Flag\\\\\n <chr> & <chr> & <chr> & <chr> & <chr> & <chr> & <dbl> & <chr> & <chr> & <chr> & <chr>\\\\\n\\hline\n\t 587b45d8 & Germany   & Renewable Energy     & 16/04/2024 & Idea 1 & Sustainable Transport & 231 & Single Contributor  & Pending  & Not Started & No \\\\\n\t 0d3e8b8e & Canada    & Renewable Energy     & 14/01/2024 & Idea 2 & Water Management      & 477 & Cross-Regional Team & Approved & In Progress & No \\\\\n\t fa012fe7 & France    & Environmental Policy & 10/01/2025 & Idea 3 & Renewable Energy      &  48 & Cross-Regional Team & Approved & Not Started & Yes\\\\\n\t cb8ed680 & Japan     & Technology           & 24/12/2023 & Idea 4 & Circular Economy      & 330 & Cross-Regional Team & Approved & Completed   & No \\\\\n\t 333fff26 & Australia & Technology           & 13/02/2025 & Idea 5 & Circular Economy      & 428 & Single Contributor  & Approved & Not Started & No \\\\\n\t a34ebb0f & India     & Technology           & 08/09/2024 & Idea 6 & Circular Economy      & 431 & Single Contributor  & Rejected & Not Started & No \\\\\n\\end{tabular}\n",
            "text/plain": [
              "  Employee ID Office Location Department           Idea Submission Date\n",
              "1 587b45d8    Germany         Renewable Energy     16/04/2024          \n",
              "2 0d3e8b8e    Canada          Renewable Energy     14/01/2024          \n",
              "3 fa012fe7    France          Environmental Policy 10/01/2025          \n",
              "4 cb8ed680    Japan           Technology           24/12/2023          \n",
              "5 333fff26    Australia       Technology           13/02/2025          \n",
              "6 a34ebb0f    India           Technology           08/09/2024          \n",
              "  Idea Title Idea Category         Number of Votes Collaboration Status\n",
              "1 Idea 1     Sustainable Transport 231             Single Contributor  \n",
              "2 Idea 2     Water Management      477             Cross-Regional Team \n",
              "3 Idea 3     Renewable Energy       48             Cross-Regional Team \n",
              "4 Idea 4     Circular Economy      330             Cross-Regional Team \n",
              "5 Idea 5     Circular Economy      428             Single Contributor  \n",
              "6 Idea 6     Circular Economy      431             Single Contributor  \n",
              "  Approval Status Implementation Status Security Concern Flag\n",
              "1 Pending         Not Started           No                   \n",
              "2 Approved        In Progress           No                   \n",
              "3 Approved        Not Started           Yes                  \n",
              "4 Approved        Completed             No                   \n",
              "5 Approved        Not Started           No                   \n",
              "6 Rejected        Not Started           No                   "
            ]
          },
          "metadata": {}
        }
      ]
    },
    {
      "cell_type": "code",
      "source": [
        "install.packages(\"sqldf\")"
      ],
      "metadata": {
        "colab": {
          "base_uri": "https://localhost:8080/"
        },
        "id": "jD6MzF3WccTr",
        "outputId": "adb0c974-be09-4bb1-ac6d-5b63a4521b35"
      },
      "execution_count": 5,
      "outputs": [
        {
          "output_type": "stream",
          "name": "stderr",
          "text": [
            "Installing package into ‘/usr/local/lib/R/site-library’\n",
            "(as ‘lib’ is unspecified)\n",
            "\n",
            "also installing the dependencies ‘plogr’, ‘gsubfn’, ‘proto’, ‘RSQLite’, ‘chron’\n",
            "\n",
            "\n"
          ]
        }
      ]
    },
    {
      "cell_type": "code",
      "source": [
        "library(sqldf)\n",
        "sqldf('SELECT * FROM mydata WHERE \"Office Location\" = \"Canada\"')"
      ],
      "metadata": {
        "colab": {
          "base_uri": "https://localhost:8080/",
          "height": 1000
        },
        "id": "UkNezNAXyOQR",
        "outputId": "380b8d04-6c2d-40ed-d47d-61b2b6754e31"
      },
      "execution_count": 25,
      "outputs": [
        {
          "output_type": "display_data",
          "data": {
            "text/html": [
              "<table class=\"dataframe\">\n",
              "<caption>A data.frame: 252 × 11</caption>\n",
              "<thead>\n",
              "\t<tr><th scope=col>Employee ID</th><th scope=col>Office Location</th><th scope=col>Department</th><th scope=col>Idea Submission Date</th><th scope=col>Idea Title</th><th scope=col>Idea Category</th><th scope=col>Number of Votes</th><th scope=col>Collaboration Status</th><th scope=col>Approval Status</th><th scope=col>Implementation Status</th><th scope=col>Security Concern Flag</th></tr>\n",
              "\t<tr><th scope=col>&lt;chr&gt;</th><th scope=col>&lt;chr&gt;</th><th scope=col>&lt;chr&gt;</th><th scope=col>&lt;chr&gt;</th><th scope=col>&lt;chr&gt;</th><th scope=col>&lt;chr&gt;</th><th scope=col>&lt;dbl&gt;</th><th scope=col>&lt;chr&gt;</th><th scope=col>&lt;chr&gt;</th><th scope=col>&lt;chr&gt;</th><th scope=col>&lt;chr&gt;</th></tr>\n",
              "</thead>\n",
              "<tbody>\n",
              "\t<tr><td>0d3e8b8e</td><td>Canada</td><td>Renewable Energy    </td><td>14/01/2024</td><td>Idea 2  </td><td>Water Management     </td><td>477</td><td>Cross-Regional Team</td><td>Approved</td><td>In Progress</td><td>No </td></tr>\n",
              "\t<tr><td>e6c12406</td><td>Canada</td><td>Research            </td><td>20/04/2024</td><td>Idea 10 </td><td>Sustainable Transport</td><td>  0</td><td>Single Contributor </td><td>Pending </td><td>Not Started</td><td>No </td></tr>\n",
              "\t<tr><td>29971bc8</td><td>Canada</td><td>Urban Development   </td><td>31/05/2023</td><td>Idea 22 </td><td>Sustainable Transport</td><td>467</td><td>Cross-Regional Team</td><td>Approved</td><td>Not Started</td><td>No </td></tr>\n",
              "\t<tr><td>5282fcc4</td><td>Canada</td><td>Urban Development   </td><td>10/02/2024</td><td>Idea 28 </td><td>Circular Economy     </td><td>339</td><td>Single Contributor </td><td>Approved</td><td>In Progress</td><td>No </td></tr>\n",
              "\t<tr><td>e4d8de67</td><td>Canada</td><td>Environmental Policy</td><td>05/01/2025</td><td>Idea 38 </td><td>Sustainable Transport</td><td> 77</td><td>Cross-Regional Team</td><td>Rejected</td><td>Not Started</td><td>Yes</td></tr>\n",
              "\t<tr><td>4aa3ec97</td><td>Canada</td><td>Environmental Policy</td><td>17/11/2024</td><td>Idea 47 </td><td>Carbon Capture       </td><td> 41</td><td>Cross-Regional Team</td><td>Approved</td><td>Completed  </td><td>Yes</td></tr>\n",
              "\t<tr><td>82c534d0</td><td>Canada</td><td>Urban Development   </td><td>03/09/2024</td><td>Idea 50 </td><td>Sustainable Transport</td><td>196</td><td>Cross-Regional Team</td><td>Rejected</td><td>Not Started</td><td>No </td></tr>\n",
              "\t<tr><td>a1fee389</td><td>Canada</td><td>Urban Development   </td><td>25/04/2024</td><td>Idea 54 </td><td>Sustainable Transport</td><td> 17</td><td>Cross-Regional Team</td><td>Rejected</td><td>Not Started</td><td>No </td></tr>\n",
              "\t<tr><td>96903915</td><td>Canada</td><td>Urban Development   </td><td>01/11/2024</td><td>Idea 75 </td><td>Sustainable Transport</td><td>117</td><td>Single Contributor </td><td>Rejected</td><td>Not Started</td><td>No </td></tr>\n",
              "\t<tr><td>1dffa736</td><td>Canada</td><td>Renewable Energy    </td><td>06/09/2023</td><td>Idea 76 </td><td>Water Management     </td><td> 78</td><td>Single Contributor </td><td>Rejected</td><td>Not Started</td><td>No </td></tr>\n",
              "\t<tr><td>02af5a81</td><td>Canada</td><td>Infrastructure      </td><td>05/12/2024</td><td>Idea 77 </td><td>Carbon Capture       </td><td>449</td><td>Single Contributor </td><td>Pending </td><td>Not Started</td><td>No </td></tr>\n",
              "\t<tr><td>e6433624</td><td>Canada</td><td>Urban Development   </td><td>13/07/2024</td><td>Idea 110</td><td>Carbon Capture       </td><td>361</td><td>Cross-Regional Team</td><td>Rejected</td><td>Not Started</td><td>No </td></tr>\n",
              "\t<tr><td>68467c3d</td><td>Canada</td><td>Urban Development   </td><td>17/10/2024</td><td>Idea 120</td><td>Sustainable Transport</td><td>  4</td><td>Cross-Regional Team</td><td>Approved</td><td>Not Started</td><td>No </td></tr>\n",
              "\t<tr><td>63d2a085</td><td>Canada</td><td>Environmental Policy</td><td>30/11/2023</td><td>Idea 146</td><td>Carbon Capture       </td><td>257</td><td>Cross-Regional Team</td><td>Rejected</td><td>Not Started</td><td>No </td></tr>\n",
              "\t<tr><td>7ef795f7</td><td>Canada</td><td>Research            </td><td>04/02/2025</td><td>Idea 149</td><td>Renewable Energy     </td><td>499</td><td>Cross-Regional Team</td><td>Pending </td><td>Not Started</td><td>No </td></tr>\n",
              "\t<tr><td>7b59e2c7</td><td>Canada</td><td>Environmental Policy</td><td>10/10/2023</td><td>Idea 153</td><td>Carbon Capture       </td><td>  3</td><td>Cross-Regional Team</td><td>Approved</td><td>In Progress</td><td>No </td></tr>\n",
              "\t<tr><td>dc48e92b</td><td>Canada</td><td>Environmental Policy</td><td>03/02/2024</td><td>Idea 154</td><td>Carbon Capture       </td><td>402</td><td>Cross-Regional Team</td><td>Approved</td><td>Completed  </td><td>No </td></tr>\n",
              "\t<tr><td>c239eaab</td><td>Canada</td><td>Renewable Energy    </td><td>12/06/2024</td><td>Idea 160</td><td>Sustainable Transport</td><td>103</td><td>Cross-Regional Team</td><td>Rejected</td><td>Not Started</td><td>No </td></tr>\n",
              "\t<tr><td>6bc95bce</td><td>Canada</td><td>Technology          </td><td>31/07/2023</td><td>Idea 223</td><td>Water Management     </td><td> 83</td><td>Single Contributor </td><td>Approved</td><td>Not Started</td><td>No </td></tr>\n",
              "\t<tr><td>4f1071ce</td><td>Canada</td><td>Research            </td><td>03/11/2023</td><td>Idea 232</td><td>Renewable Energy     </td><td>286</td><td>Cross-Regional Team</td><td>Pending </td><td>Not Started</td><td>No </td></tr>\n",
              "\t<tr><td>106ebe9f</td><td>Canada</td><td>Environmental Policy</td><td>07/08/2023</td><td>Idea 236</td><td>Smart Cities         </td><td>424</td><td>Single Contributor </td><td>Approved</td><td>Completed  </td><td>No </td></tr>\n",
              "\t<tr><td>f96f748c</td><td>Canada</td><td>Research            </td><td>14/08/2024</td><td>Idea 238</td><td>Circular Economy     </td><td>368</td><td>Cross-Regional Team</td><td>Approved</td><td>Completed  </td><td>No </td></tr>\n",
              "\t<tr><td>6cb2b782</td><td>Canada</td><td>Urban Development   </td><td>30/01/2024</td><td>Idea 240</td><td>Circular Economy     </td><td>492</td><td>Single Contributor </td><td>Rejected</td><td>Not Started</td><td>Yes</td></tr>\n",
              "\t<tr><td>e0640b9f</td><td>Canada</td><td>Infrastructure      </td><td>01/07/2023</td><td>Idea 244</td><td>Renewable Energy     </td><td>277</td><td>Single Contributor </td><td>Pending </td><td>Not Started</td><td>No </td></tr>\n",
              "\t<tr><td>bdc31c50</td><td>Canada</td><td>Infrastructure      </td><td>30/11/2023</td><td>Idea 245</td><td>Carbon Capture       </td><td>210</td><td>Cross-Regional Team</td><td>Pending </td><td>Not Started</td><td>No </td></tr>\n",
              "\t<tr><td>2ced500b</td><td>Canada</td><td>Renewable Energy    </td><td>06/05/2024</td><td>Idea 246</td><td>Water Management     </td><td>424</td><td>Cross-Regional Team</td><td>Approved</td><td>In Progress</td><td>No </td></tr>\n",
              "\t<tr><td>3e90d8c1</td><td>Canada</td><td>Infrastructure      </td><td>03/10/2023</td><td>Idea 248</td><td>Smart Cities         </td><td>271</td><td>Cross-Regional Team</td><td>Pending </td><td>Not Started</td><td>No </td></tr>\n",
              "\t<tr><td>f40cf882</td><td>Canada</td><td>Research            </td><td>01/11/2024</td><td>Idea 254</td><td>Smart Cities         </td><td>187</td><td>Single Contributor </td><td>Pending </td><td>Not Started</td><td>No </td></tr>\n",
              "\t<tr><td>c013eb31</td><td>Canada</td><td>Research            </td><td>09/07/2023</td><td>Idea 268</td><td>Circular Economy     </td><td>130</td><td>Cross-Regional Team</td><td>Pending </td><td>Not Started</td><td>No </td></tr>\n",
              "\t<tr><td>92461505</td><td>Canada</td><td>Infrastructure      </td><td>22/09/2023</td><td>Idea 275</td><td>Renewable Energy     </td><td>495</td><td>Single Contributor </td><td>Rejected</td><td>Not Started</td><td>No </td></tr>\n",
              "\t<tr><td>⋮</td><td>⋮</td><td>⋮</td><td>⋮</td><td>⋮</td><td>⋮</td><td>⋮</td><td>⋮</td><td>⋮</td><td>⋮</td><td>⋮</td></tr>\n",
              "\t<tr><td>4871083d</td><td>Canada</td><td>Environmental Policy</td><td>05/12/2024</td><td>Idea 2632</td><td>Water Management     </td><td>460</td><td>Single Contributor </td><td>Pending </td><td>Not Started</td><td>No </td></tr>\n",
              "\t<tr><td>9e8fe988</td><td>Canada</td><td>Infrastructure      </td><td>02/04/2024</td><td>Idea 2635</td><td>Circular Economy     </td><td>  5</td><td>Cross-Regional Team</td><td>Approved</td><td>Not Started</td><td>No </td></tr>\n",
              "\t<tr><td>bd1f67af</td><td>Canada</td><td>Technology          </td><td>04/04/2024</td><td>Idea 2644</td><td>Smart Cities         </td><td>241</td><td>Cross-Regional Team</td><td>Rejected</td><td>Not Started</td><td>No </td></tr>\n",
              "\t<tr><td>5b5255da</td><td>Canada</td><td>Research            </td><td>12/03/2024</td><td>Idea 2669</td><td>Water Management     </td><td>312</td><td>Single Contributor </td><td>Approved</td><td>Not Started</td><td>No </td></tr>\n",
              "\t<tr><td>6e40f08e</td><td>Canada</td><td>Environmental Policy</td><td>09/03/2024</td><td>Idea 2677</td><td>Smart Cities         </td><td>291</td><td>Cross-Regional Team</td><td>Pending </td><td>Not Started</td><td>No </td></tr>\n",
              "\t<tr><td>a9a4d578</td><td>Canada</td><td>Urban Development   </td><td>15/02/2025</td><td>Idea 2685</td><td>Smart Cities         </td><td>159</td><td>Cross-Regional Team</td><td>Rejected</td><td>Not Started</td><td>No </td></tr>\n",
              "\t<tr><td>b5466ca9</td><td>Canada</td><td>Infrastructure      </td><td>25/12/2024</td><td>Idea 2689</td><td>Renewable Energy     </td><td>455</td><td>Single Contributor </td><td>Approved</td><td>Completed  </td><td>No </td></tr>\n",
              "\t<tr><td>7f83ea31</td><td>Canada</td><td>Environmental Policy</td><td>29/08/2024</td><td>Idea 2692</td><td>Smart Cities         </td><td> 79</td><td>Single Contributor </td><td>Rejected</td><td>Not Started</td><td>No </td></tr>\n",
              "\t<tr><td>b5278709</td><td>Canada</td><td>Research            </td><td>20/12/2023</td><td>Idea 2698</td><td>Circular Economy     </td><td>115</td><td>Single Contributor </td><td>Rejected</td><td>Not Started</td><td>No </td></tr>\n",
              "\t<tr><td>e82ac02d</td><td>Canada</td><td>Renewable Energy    </td><td>05/04/2023</td><td>Idea 2718</td><td>Smart Cities         </td><td>228</td><td>Single Contributor </td><td>Rejected</td><td>Not Started</td><td>No </td></tr>\n",
              "\t<tr><td>4d8bc11a</td><td>Canada</td><td>Research            </td><td>21/04/2023</td><td>Idea 2734</td><td>Water Management     </td><td>150</td><td>Single Contributor </td><td>Rejected</td><td>Not Started</td><td>Yes</td></tr>\n",
              "\t<tr><td>fe38135a</td><td>Canada</td><td>Infrastructure      </td><td>23/10/2024</td><td>Idea 2735</td><td>Carbon Capture       </td><td> 28</td><td>Single Contributor </td><td>Approved</td><td>Not Started</td><td>No </td></tr>\n",
              "\t<tr><td>c940e6da</td><td>Canada</td><td>Technology          </td><td>19/03/2024</td><td>Idea 2779</td><td>Carbon Capture       </td><td>256</td><td>Cross-Regional Team</td><td>Rejected</td><td>Not Started</td><td>No </td></tr>\n",
              "\t<tr><td>7a410383</td><td>Canada</td><td>Infrastructure      </td><td>13/12/2023</td><td>Idea 2785</td><td>Renewable Energy     </td><td> 76</td><td>Single Contributor </td><td>Pending </td><td>Not Started</td><td>No </td></tr>\n",
              "\t<tr><td>49a08cde</td><td>Canada</td><td>Renewable Energy    </td><td>19/09/2024</td><td>Idea 2787</td><td>Smart Cities         </td><td>325</td><td>Single Contributor </td><td>Pending </td><td>Not Started</td><td>No </td></tr>\n",
              "\t<tr><td>d64d432d</td><td>Canada</td><td>Renewable Energy    </td><td>06/02/2025</td><td>Idea 2843</td><td>Sustainable Transport</td><td>445</td><td>Single Contributor </td><td>Rejected</td><td>Not Started</td><td>Yes</td></tr>\n",
              "\t<tr><td>94cdd3dc</td><td>Canada</td><td>Urban Development   </td><td>10/12/2023</td><td>Idea 2845</td><td>Renewable Energy     </td><td>250</td><td>Cross-Regional Team</td><td>Approved</td><td>Not Started</td><td>No </td></tr>\n",
              "\t<tr><td>1a70068f</td><td>Canada</td><td>Renewable Energy    </td><td>23/09/2023</td><td>Idea 2852</td><td>Sustainable Transport</td><td>307</td><td>Single Contributor </td><td>Pending </td><td>Not Started</td><td>No </td></tr>\n",
              "\t<tr><td>f716fb8b</td><td>Canada</td><td>Environmental Policy</td><td>06/07/2023</td><td>Idea 2871</td><td>Water Management     </td><td>375</td><td>Single Contributor </td><td>Approved</td><td>Not Started</td><td>Yes</td></tr>\n",
              "\t<tr><td>cd65f6ec</td><td>Canada</td><td>Environmental Policy</td><td>27/09/2023</td><td>Idea 2877</td><td>Sustainable Transport</td><td> 10</td><td>Single Contributor </td><td>Rejected</td><td>Not Started</td><td>No </td></tr>\n",
              "\t<tr><td>8de6e697</td><td>Canada</td><td>Environmental Policy</td><td>24/10/2024</td><td>Idea 2894</td><td>Smart Cities         </td><td>296</td><td>Single Contributor </td><td>Approved</td><td>Not Started</td><td>No </td></tr>\n",
              "\t<tr><td>eefb205d</td><td>Canada</td><td>Research            </td><td>25/03/2024</td><td>Idea 2917</td><td>Water Management     </td><td>462</td><td>Single Contributor </td><td>Pending </td><td>Not Started</td><td>No </td></tr>\n",
              "\t<tr><td>853e578e</td><td>Canada</td><td>Environmental Policy</td><td>29/01/2025</td><td>Idea 2918</td><td>Renewable Energy     </td><td> 26</td><td>Single Contributor </td><td>Approved</td><td>Not Started</td><td>No </td></tr>\n",
              "\t<tr><td>97b73600</td><td>Canada</td><td>Infrastructure      </td><td>14/04/2024</td><td>Idea 2931</td><td>Circular Economy     </td><td>307</td><td>Single Contributor </td><td>Pending </td><td>Not Started</td><td>No </td></tr>\n",
              "\t<tr><td>0f49c28b</td><td>Canada</td><td>Research            </td><td>30/07/2024</td><td>Idea 2941</td><td>Circular Economy     </td><td> 84</td><td>Cross-Regional Team</td><td>Pending </td><td>Not Started</td><td>No </td></tr>\n",
              "\t<tr><td>05ae38fe</td><td>Canada</td><td>Research            </td><td>01/03/2025</td><td>Idea 2943</td><td>Sustainable Transport</td><td> 70</td><td>Single Contributor </td><td>Pending </td><td>Not Started</td><td>No </td></tr>\n",
              "\t<tr><td>d02bc892</td><td>Canada</td><td>Urban Development   </td><td>24/12/2023</td><td>Idea 2953</td><td>Circular Economy     </td><td>342</td><td>Single Contributor </td><td>Pending </td><td>Not Started</td><td>No </td></tr>\n",
              "\t<tr><td>864f9f3a</td><td>Canada</td><td>Technology          </td><td>15/11/2023</td><td>Idea 2977</td><td>Sustainable Transport</td><td>409</td><td>Cross-Regional Team</td><td>Approved</td><td>Not Started</td><td>Yes</td></tr>\n",
              "\t<tr><td>13d4da42</td><td>Canada</td><td>Renewable Energy    </td><td>11/05/2023</td><td>Idea 2990</td><td>Sustainable Transport</td><td>342</td><td>Single Contributor </td><td>Rejected</td><td>Not Started</td><td>No </td></tr>\n",
              "\t<tr><td>904e2999</td><td>Canada</td><td>Environmental Policy</td><td>16/12/2023</td><td>Idea 2992</td><td>Smart Cities         </td><td> 66</td><td>Cross-Regional Team</td><td>Pending </td><td>Not Started</td><td>No </td></tr>\n",
              "</tbody>\n",
              "</table>\n"
            ],
            "text/markdown": "\nA data.frame: 252 × 11\n\n| Employee ID &lt;chr&gt; | Office Location &lt;chr&gt; | Department &lt;chr&gt; | Idea Submission Date &lt;chr&gt; | Idea Title &lt;chr&gt; | Idea Category &lt;chr&gt; | Number of Votes &lt;dbl&gt; | Collaboration Status &lt;chr&gt; | Approval Status &lt;chr&gt; | Implementation Status &lt;chr&gt; | Security Concern Flag &lt;chr&gt; |\n|---|---|---|---|---|---|---|---|---|---|---|\n| 0d3e8b8e | Canada | Renewable Energy     | 14/01/2024 | Idea 2   | Water Management      | 477 | Cross-Regional Team | Approved | In Progress | No  |\n| e6c12406 | Canada | Research             | 20/04/2024 | Idea 10  | Sustainable Transport |   0 | Single Contributor  | Pending  | Not Started | No  |\n| 29971bc8 | Canada | Urban Development    | 31/05/2023 | Idea 22  | Sustainable Transport | 467 | Cross-Regional Team | Approved | Not Started | No  |\n| 5282fcc4 | Canada | Urban Development    | 10/02/2024 | Idea 28  | Circular Economy      | 339 | Single Contributor  | Approved | In Progress | No  |\n| e4d8de67 | Canada | Environmental Policy | 05/01/2025 | Idea 38  | Sustainable Transport |  77 | Cross-Regional Team | Rejected | Not Started | Yes |\n| 4aa3ec97 | Canada | Environmental Policy | 17/11/2024 | Idea 47  | Carbon Capture        |  41 | Cross-Regional Team | Approved | Completed   | Yes |\n| 82c534d0 | Canada | Urban Development    | 03/09/2024 | Idea 50  | Sustainable Transport | 196 | Cross-Regional Team | Rejected | Not Started | No  |\n| a1fee389 | Canada | Urban Development    | 25/04/2024 | Idea 54  | Sustainable Transport |  17 | Cross-Regional Team | Rejected | Not Started | No  |\n| 96903915 | Canada | Urban Development    | 01/11/2024 | Idea 75  | Sustainable Transport | 117 | Single Contributor  | Rejected | Not Started | No  |\n| 1dffa736 | Canada | Renewable Energy     | 06/09/2023 | Idea 76  | Water Management      |  78 | Single Contributor  | Rejected | Not Started | No  |\n| 02af5a81 | Canada | Infrastructure       | 05/12/2024 | Idea 77  | Carbon Capture        | 449 | Single Contributor  | Pending  | Not Started | No  |\n| e6433624 | Canada | Urban Development    | 13/07/2024 | Idea 110 | Carbon Capture        | 361 | Cross-Regional Team | Rejected | Not Started | No  |\n| 68467c3d | Canada | Urban Development    | 17/10/2024 | Idea 120 | Sustainable Transport |   4 | Cross-Regional Team | Approved | Not Started | No  |\n| 63d2a085 | Canada | Environmental Policy | 30/11/2023 | Idea 146 | Carbon Capture        | 257 | Cross-Regional Team | Rejected | Not Started | No  |\n| 7ef795f7 | Canada | Research             | 04/02/2025 | Idea 149 | Renewable Energy      | 499 | Cross-Regional Team | Pending  | Not Started | No  |\n| 7b59e2c7 | Canada | Environmental Policy | 10/10/2023 | Idea 153 | Carbon Capture        |   3 | Cross-Regional Team | Approved | In Progress | No  |\n| dc48e92b | Canada | Environmental Policy | 03/02/2024 | Idea 154 | Carbon Capture        | 402 | Cross-Regional Team | Approved | Completed   | No  |\n| c239eaab | Canada | Renewable Energy     | 12/06/2024 | Idea 160 | Sustainable Transport | 103 | Cross-Regional Team | Rejected | Not Started | No  |\n| 6bc95bce | Canada | Technology           | 31/07/2023 | Idea 223 | Water Management      |  83 | Single Contributor  | Approved | Not Started | No  |\n| 4f1071ce | Canada | Research             | 03/11/2023 | Idea 232 | Renewable Energy      | 286 | Cross-Regional Team | Pending  | Not Started | No  |\n| 106ebe9f | Canada | Environmental Policy | 07/08/2023 | Idea 236 | Smart Cities          | 424 | Single Contributor  | Approved | Completed   | No  |\n| f96f748c | Canada | Research             | 14/08/2024 | Idea 238 | Circular Economy      | 368 | Cross-Regional Team | Approved | Completed   | No  |\n| 6cb2b782 | Canada | Urban Development    | 30/01/2024 | Idea 240 | Circular Economy      | 492 | Single Contributor  | Rejected | Not Started | Yes |\n| e0640b9f | Canada | Infrastructure       | 01/07/2023 | Idea 244 | Renewable Energy      | 277 | Single Contributor  | Pending  | Not Started | No  |\n| bdc31c50 | Canada | Infrastructure       | 30/11/2023 | Idea 245 | Carbon Capture        | 210 | Cross-Regional Team | Pending  | Not Started | No  |\n| 2ced500b | Canada | Renewable Energy     | 06/05/2024 | Idea 246 | Water Management      | 424 | Cross-Regional Team | Approved | In Progress | No  |\n| 3e90d8c1 | Canada | Infrastructure       | 03/10/2023 | Idea 248 | Smart Cities          | 271 | Cross-Regional Team | Pending  | Not Started | No  |\n| f40cf882 | Canada | Research             | 01/11/2024 | Idea 254 | Smart Cities          | 187 | Single Contributor  | Pending  | Not Started | No  |\n| c013eb31 | Canada | Research             | 09/07/2023 | Idea 268 | Circular Economy      | 130 | Cross-Regional Team | Pending  | Not Started | No  |\n| 92461505 | Canada | Infrastructure       | 22/09/2023 | Idea 275 | Renewable Energy      | 495 | Single Contributor  | Rejected | Not Started | No  |\n| ⋮ | ⋮ | ⋮ | ⋮ | ⋮ | ⋮ | ⋮ | ⋮ | ⋮ | ⋮ | ⋮ |\n| 4871083d | Canada | Environmental Policy | 05/12/2024 | Idea 2632 | Water Management      | 460 | Single Contributor  | Pending  | Not Started | No  |\n| 9e8fe988 | Canada | Infrastructure       | 02/04/2024 | Idea 2635 | Circular Economy      |   5 | Cross-Regional Team | Approved | Not Started | No  |\n| bd1f67af | Canada | Technology           | 04/04/2024 | Idea 2644 | Smart Cities          | 241 | Cross-Regional Team | Rejected | Not Started | No  |\n| 5b5255da | Canada | Research             | 12/03/2024 | Idea 2669 | Water Management      | 312 | Single Contributor  | Approved | Not Started | No  |\n| 6e40f08e | Canada | Environmental Policy | 09/03/2024 | Idea 2677 | Smart Cities          | 291 | Cross-Regional Team | Pending  | Not Started | No  |\n| a9a4d578 | Canada | Urban Development    | 15/02/2025 | Idea 2685 | Smart Cities          | 159 | Cross-Regional Team | Rejected | Not Started | No  |\n| b5466ca9 | Canada | Infrastructure       | 25/12/2024 | Idea 2689 | Renewable Energy      | 455 | Single Contributor  | Approved | Completed   | No  |\n| 7f83ea31 | Canada | Environmental Policy | 29/08/2024 | Idea 2692 | Smart Cities          |  79 | Single Contributor  | Rejected | Not Started | No  |\n| b5278709 | Canada | Research             | 20/12/2023 | Idea 2698 | Circular Economy      | 115 | Single Contributor  | Rejected | Not Started | No  |\n| e82ac02d | Canada | Renewable Energy     | 05/04/2023 | Idea 2718 | Smart Cities          | 228 | Single Contributor  | Rejected | Not Started | No  |\n| 4d8bc11a | Canada | Research             | 21/04/2023 | Idea 2734 | Water Management      | 150 | Single Contributor  | Rejected | Not Started | Yes |\n| fe38135a | Canada | Infrastructure       | 23/10/2024 | Idea 2735 | Carbon Capture        |  28 | Single Contributor  | Approved | Not Started | No  |\n| c940e6da | Canada | Technology           | 19/03/2024 | Idea 2779 | Carbon Capture        | 256 | Cross-Regional Team | Rejected | Not Started | No  |\n| 7a410383 | Canada | Infrastructure       | 13/12/2023 | Idea 2785 | Renewable Energy      |  76 | Single Contributor  | Pending  | Not Started | No  |\n| 49a08cde | Canada | Renewable Energy     | 19/09/2024 | Idea 2787 | Smart Cities          | 325 | Single Contributor  | Pending  | Not Started | No  |\n| d64d432d | Canada | Renewable Energy     | 06/02/2025 | Idea 2843 | Sustainable Transport | 445 | Single Contributor  | Rejected | Not Started | Yes |\n| 94cdd3dc | Canada | Urban Development    | 10/12/2023 | Idea 2845 | Renewable Energy      | 250 | Cross-Regional Team | Approved | Not Started | No  |\n| 1a70068f | Canada | Renewable Energy     | 23/09/2023 | Idea 2852 | Sustainable Transport | 307 | Single Contributor  | Pending  | Not Started | No  |\n| f716fb8b | Canada | Environmental Policy | 06/07/2023 | Idea 2871 | Water Management      | 375 | Single Contributor  | Approved | Not Started | Yes |\n| cd65f6ec | Canada | Environmental Policy | 27/09/2023 | Idea 2877 | Sustainable Transport |  10 | Single Contributor  | Rejected | Not Started | No  |\n| 8de6e697 | Canada | Environmental Policy | 24/10/2024 | Idea 2894 | Smart Cities          | 296 | Single Contributor  | Approved | Not Started | No  |\n| eefb205d | Canada | Research             | 25/03/2024 | Idea 2917 | Water Management      | 462 | Single Contributor  | Pending  | Not Started | No  |\n| 853e578e | Canada | Environmental Policy | 29/01/2025 | Idea 2918 | Renewable Energy      |  26 | Single Contributor  | Approved | Not Started | No  |\n| 97b73600 | Canada | Infrastructure       | 14/04/2024 | Idea 2931 | Circular Economy      | 307 | Single Contributor  | Pending  | Not Started | No  |\n| 0f49c28b | Canada | Research             | 30/07/2024 | Idea 2941 | Circular Economy      |  84 | Cross-Regional Team | Pending  | Not Started | No  |\n| 05ae38fe | Canada | Research             | 01/03/2025 | Idea 2943 | Sustainable Transport |  70 | Single Contributor  | Pending  | Not Started | No  |\n| d02bc892 | Canada | Urban Development    | 24/12/2023 | Idea 2953 | Circular Economy      | 342 | Single Contributor  | Pending  | Not Started | No  |\n| 864f9f3a | Canada | Technology           | 15/11/2023 | Idea 2977 | Sustainable Transport | 409 | Cross-Regional Team | Approved | Not Started | Yes |\n| 13d4da42 | Canada | Renewable Energy     | 11/05/2023 | Idea 2990 | Sustainable Transport | 342 | Single Contributor  | Rejected | Not Started | No  |\n| 904e2999 | Canada | Environmental Policy | 16/12/2023 | Idea 2992 | Smart Cities          |  66 | Cross-Regional Team | Pending  | Not Started | No  |\n\n",
            "text/latex": "A data.frame: 252 × 11\n\\begin{tabular}{lllllllllll}\n Employee ID & Office Location & Department & Idea Submission Date & Idea Title & Idea Category & Number of Votes & Collaboration Status & Approval Status & Implementation Status & Security Concern Flag\\\\\n <chr> & <chr> & <chr> & <chr> & <chr> & <chr> & <dbl> & <chr> & <chr> & <chr> & <chr>\\\\\n\\hline\n\t 0d3e8b8e & Canada & Renewable Energy     & 14/01/2024 & Idea 2   & Water Management      & 477 & Cross-Regional Team & Approved & In Progress & No \\\\\n\t e6c12406 & Canada & Research             & 20/04/2024 & Idea 10  & Sustainable Transport &   0 & Single Contributor  & Pending  & Not Started & No \\\\\n\t 29971bc8 & Canada & Urban Development    & 31/05/2023 & Idea 22  & Sustainable Transport & 467 & Cross-Regional Team & Approved & Not Started & No \\\\\n\t 5282fcc4 & Canada & Urban Development    & 10/02/2024 & Idea 28  & Circular Economy      & 339 & Single Contributor  & Approved & In Progress & No \\\\\n\t e4d8de67 & Canada & Environmental Policy & 05/01/2025 & Idea 38  & Sustainable Transport &  77 & Cross-Regional Team & Rejected & Not Started & Yes\\\\\n\t 4aa3ec97 & Canada & Environmental Policy & 17/11/2024 & Idea 47  & Carbon Capture        &  41 & Cross-Regional Team & Approved & Completed   & Yes\\\\\n\t 82c534d0 & Canada & Urban Development    & 03/09/2024 & Idea 50  & Sustainable Transport & 196 & Cross-Regional Team & Rejected & Not Started & No \\\\\n\t a1fee389 & Canada & Urban Development    & 25/04/2024 & Idea 54  & Sustainable Transport &  17 & Cross-Regional Team & Rejected & Not Started & No \\\\\n\t 96903915 & Canada & Urban Development    & 01/11/2024 & Idea 75  & Sustainable Transport & 117 & Single Contributor  & Rejected & Not Started & No \\\\\n\t 1dffa736 & Canada & Renewable Energy     & 06/09/2023 & Idea 76  & Water Management      &  78 & Single Contributor  & Rejected & Not Started & No \\\\\n\t 02af5a81 & Canada & Infrastructure       & 05/12/2024 & Idea 77  & Carbon Capture        & 449 & Single Contributor  & Pending  & Not Started & No \\\\\n\t e6433624 & Canada & Urban Development    & 13/07/2024 & Idea 110 & Carbon Capture        & 361 & Cross-Regional Team & Rejected & Not Started & No \\\\\n\t 68467c3d & Canada & Urban Development    & 17/10/2024 & Idea 120 & Sustainable Transport &   4 & Cross-Regional Team & Approved & Not Started & No \\\\\n\t 63d2a085 & Canada & Environmental Policy & 30/11/2023 & Idea 146 & Carbon Capture        & 257 & Cross-Regional Team & Rejected & Not Started & No \\\\\n\t 7ef795f7 & Canada & Research             & 04/02/2025 & Idea 149 & Renewable Energy      & 499 & Cross-Regional Team & Pending  & Not Started & No \\\\\n\t 7b59e2c7 & Canada & Environmental Policy & 10/10/2023 & Idea 153 & Carbon Capture        &   3 & Cross-Regional Team & Approved & In Progress & No \\\\\n\t dc48e92b & Canada & Environmental Policy & 03/02/2024 & Idea 154 & Carbon Capture        & 402 & Cross-Regional Team & Approved & Completed   & No \\\\\n\t c239eaab & Canada & Renewable Energy     & 12/06/2024 & Idea 160 & Sustainable Transport & 103 & Cross-Regional Team & Rejected & Not Started & No \\\\\n\t 6bc95bce & Canada & Technology           & 31/07/2023 & Idea 223 & Water Management      &  83 & Single Contributor  & Approved & Not Started & No \\\\\n\t 4f1071ce & Canada & Research             & 03/11/2023 & Idea 232 & Renewable Energy      & 286 & Cross-Regional Team & Pending  & Not Started & No \\\\\n\t 106ebe9f & Canada & Environmental Policy & 07/08/2023 & Idea 236 & Smart Cities          & 424 & Single Contributor  & Approved & Completed   & No \\\\\n\t f96f748c & Canada & Research             & 14/08/2024 & Idea 238 & Circular Economy      & 368 & Cross-Regional Team & Approved & Completed   & No \\\\\n\t 6cb2b782 & Canada & Urban Development    & 30/01/2024 & Idea 240 & Circular Economy      & 492 & Single Contributor  & Rejected & Not Started & Yes\\\\\n\t e0640b9f & Canada & Infrastructure       & 01/07/2023 & Idea 244 & Renewable Energy      & 277 & Single Contributor  & Pending  & Not Started & No \\\\\n\t bdc31c50 & Canada & Infrastructure       & 30/11/2023 & Idea 245 & Carbon Capture        & 210 & Cross-Regional Team & Pending  & Not Started & No \\\\\n\t 2ced500b & Canada & Renewable Energy     & 06/05/2024 & Idea 246 & Water Management      & 424 & Cross-Regional Team & Approved & In Progress & No \\\\\n\t 3e90d8c1 & Canada & Infrastructure       & 03/10/2023 & Idea 248 & Smart Cities          & 271 & Cross-Regional Team & Pending  & Not Started & No \\\\\n\t f40cf882 & Canada & Research             & 01/11/2024 & Idea 254 & Smart Cities          & 187 & Single Contributor  & Pending  & Not Started & No \\\\\n\t c013eb31 & Canada & Research             & 09/07/2023 & Idea 268 & Circular Economy      & 130 & Cross-Regional Team & Pending  & Not Started & No \\\\\n\t 92461505 & Canada & Infrastructure       & 22/09/2023 & Idea 275 & Renewable Energy      & 495 & Single Contributor  & Rejected & Not Started & No \\\\\n\t ⋮ & ⋮ & ⋮ & ⋮ & ⋮ & ⋮ & ⋮ & ⋮ & ⋮ & ⋮ & ⋮\\\\\n\t 4871083d & Canada & Environmental Policy & 05/12/2024 & Idea 2632 & Water Management      & 460 & Single Contributor  & Pending  & Not Started & No \\\\\n\t 9e8fe988 & Canada & Infrastructure       & 02/04/2024 & Idea 2635 & Circular Economy      &   5 & Cross-Regional Team & Approved & Not Started & No \\\\\n\t bd1f67af & Canada & Technology           & 04/04/2024 & Idea 2644 & Smart Cities          & 241 & Cross-Regional Team & Rejected & Not Started & No \\\\\n\t 5b5255da & Canada & Research             & 12/03/2024 & Idea 2669 & Water Management      & 312 & Single Contributor  & Approved & Not Started & No \\\\\n\t 6e40f08e & Canada & Environmental Policy & 09/03/2024 & Idea 2677 & Smart Cities          & 291 & Cross-Regional Team & Pending  & Not Started & No \\\\\n\t a9a4d578 & Canada & Urban Development    & 15/02/2025 & Idea 2685 & Smart Cities          & 159 & Cross-Regional Team & Rejected & Not Started & No \\\\\n\t b5466ca9 & Canada & Infrastructure       & 25/12/2024 & Idea 2689 & Renewable Energy      & 455 & Single Contributor  & Approved & Completed   & No \\\\\n\t 7f83ea31 & Canada & Environmental Policy & 29/08/2024 & Idea 2692 & Smart Cities          &  79 & Single Contributor  & Rejected & Not Started & No \\\\\n\t b5278709 & Canada & Research             & 20/12/2023 & Idea 2698 & Circular Economy      & 115 & Single Contributor  & Rejected & Not Started & No \\\\\n\t e82ac02d & Canada & Renewable Energy     & 05/04/2023 & Idea 2718 & Smart Cities          & 228 & Single Contributor  & Rejected & Not Started & No \\\\\n\t 4d8bc11a & Canada & Research             & 21/04/2023 & Idea 2734 & Water Management      & 150 & Single Contributor  & Rejected & Not Started & Yes\\\\\n\t fe38135a & Canada & Infrastructure       & 23/10/2024 & Idea 2735 & Carbon Capture        &  28 & Single Contributor  & Approved & Not Started & No \\\\\n\t c940e6da & Canada & Technology           & 19/03/2024 & Idea 2779 & Carbon Capture        & 256 & Cross-Regional Team & Rejected & Not Started & No \\\\\n\t 7a410383 & Canada & Infrastructure       & 13/12/2023 & Idea 2785 & Renewable Energy      &  76 & Single Contributor  & Pending  & Not Started & No \\\\\n\t 49a08cde & Canada & Renewable Energy     & 19/09/2024 & Idea 2787 & Smart Cities          & 325 & Single Contributor  & Pending  & Not Started & No \\\\\n\t d64d432d & Canada & Renewable Energy     & 06/02/2025 & Idea 2843 & Sustainable Transport & 445 & Single Contributor  & Rejected & Not Started & Yes\\\\\n\t 94cdd3dc & Canada & Urban Development    & 10/12/2023 & Idea 2845 & Renewable Energy      & 250 & Cross-Regional Team & Approved & Not Started & No \\\\\n\t 1a70068f & Canada & Renewable Energy     & 23/09/2023 & Idea 2852 & Sustainable Transport & 307 & Single Contributor  & Pending  & Not Started & No \\\\\n\t f716fb8b & Canada & Environmental Policy & 06/07/2023 & Idea 2871 & Water Management      & 375 & Single Contributor  & Approved & Not Started & Yes\\\\\n\t cd65f6ec & Canada & Environmental Policy & 27/09/2023 & Idea 2877 & Sustainable Transport &  10 & Single Contributor  & Rejected & Not Started & No \\\\\n\t 8de6e697 & Canada & Environmental Policy & 24/10/2024 & Idea 2894 & Smart Cities          & 296 & Single Contributor  & Approved & Not Started & No \\\\\n\t eefb205d & Canada & Research             & 25/03/2024 & Idea 2917 & Water Management      & 462 & Single Contributor  & Pending  & Not Started & No \\\\\n\t 853e578e & Canada & Environmental Policy & 29/01/2025 & Idea 2918 & Renewable Energy      &  26 & Single Contributor  & Approved & Not Started & No \\\\\n\t 97b73600 & Canada & Infrastructure       & 14/04/2024 & Idea 2931 & Circular Economy      & 307 & Single Contributor  & Pending  & Not Started & No \\\\\n\t 0f49c28b & Canada & Research             & 30/07/2024 & Idea 2941 & Circular Economy      &  84 & Cross-Regional Team & Pending  & Not Started & No \\\\\n\t 05ae38fe & Canada & Research             & 01/03/2025 & Idea 2943 & Sustainable Transport &  70 & Single Contributor  & Pending  & Not Started & No \\\\\n\t d02bc892 & Canada & Urban Development    & 24/12/2023 & Idea 2953 & Circular Economy      & 342 & Single Contributor  & Pending  & Not Started & No \\\\\n\t 864f9f3a & Canada & Technology           & 15/11/2023 & Idea 2977 & Sustainable Transport & 409 & Cross-Regional Team & Approved & Not Started & Yes\\\\\n\t 13d4da42 & Canada & Renewable Energy     & 11/05/2023 & Idea 2990 & Sustainable Transport & 342 & Single Contributor  & Rejected & Not Started & No \\\\\n\t 904e2999 & Canada & Environmental Policy & 16/12/2023 & Idea 2992 & Smart Cities          &  66 & Cross-Regional Team & Pending  & Not Started & No \\\\\n\\end{tabular}\n",
            "text/plain": [
              "    Employee ID Office Location Department           Idea Submission Date\n",
              "1   0d3e8b8e    Canada          Renewable Energy     14/01/2024          \n",
              "2   e6c12406    Canada          Research             20/04/2024          \n",
              "3   29971bc8    Canada          Urban Development    31/05/2023          \n",
              "4   5282fcc4    Canada          Urban Development    10/02/2024          \n",
              "5   e4d8de67    Canada          Environmental Policy 05/01/2025          \n",
              "6   4aa3ec97    Canada          Environmental Policy 17/11/2024          \n",
              "7   82c534d0    Canada          Urban Development    03/09/2024          \n",
              "8   a1fee389    Canada          Urban Development    25/04/2024          \n",
              "9   96903915    Canada          Urban Development    01/11/2024          \n",
              "10  1dffa736    Canada          Renewable Energy     06/09/2023          \n",
              "11  02af5a81    Canada          Infrastructure       05/12/2024          \n",
              "12  e6433624    Canada          Urban Development    13/07/2024          \n",
              "13  68467c3d    Canada          Urban Development    17/10/2024          \n",
              "14  63d2a085    Canada          Environmental Policy 30/11/2023          \n",
              "15  7ef795f7    Canada          Research             04/02/2025          \n",
              "16  7b59e2c7    Canada          Environmental Policy 10/10/2023          \n",
              "17  dc48e92b    Canada          Environmental Policy 03/02/2024          \n",
              "18  c239eaab    Canada          Renewable Energy     12/06/2024          \n",
              "19  6bc95bce    Canada          Technology           31/07/2023          \n",
              "20  4f1071ce    Canada          Research             03/11/2023          \n",
              "21  106ebe9f    Canada          Environmental Policy 07/08/2023          \n",
              "22  f96f748c    Canada          Research             14/08/2024          \n",
              "23  6cb2b782    Canada          Urban Development    30/01/2024          \n",
              "24  e0640b9f    Canada          Infrastructure       01/07/2023          \n",
              "25  bdc31c50    Canada          Infrastructure       30/11/2023          \n",
              "26  2ced500b    Canada          Renewable Energy     06/05/2024          \n",
              "27  3e90d8c1    Canada          Infrastructure       03/10/2023          \n",
              "28  f40cf882    Canada          Research             01/11/2024          \n",
              "29  c013eb31    Canada          Research             09/07/2023          \n",
              "30  92461505    Canada          Infrastructure       22/09/2023          \n",
              "⋮   ⋮           ⋮               ⋮                    ⋮                   \n",
              "223 4871083d    Canada          Environmental Policy 05/12/2024          \n",
              "224 9e8fe988    Canada          Infrastructure       02/04/2024          \n",
              "225 bd1f67af    Canada          Technology           04/04/2024          \n",
              "226 5b5255da    Canada          Research             12/03/2024          \n",
              "227 6e40f08e    Canada          Environmental Policy 09/03/2024          \n",
              "228 a9a4d578    Canada          Urban Development    15/02/2025          \n",
              "229 b5466ca9    Canada          Infrastructure       25/12/2024          \n",
              "230 7f83ea31    Canada          Environmental Policy 29/08/2024          \n",
              "231 b5278709    Canada          Research             20/12/2023          \n",
              "232 e82ac02d    Canada          Renewable Energy     05/04/2023          \n",
              "233 4d8bc11a    Canada          Research             21/04/2023          \n",
              "234 fe38135a    Canada          Infrastructure       23/10/2024          \n",
              "235 c940e6da    Canada          Technology           19/03/2024          \n",
              "236 7a410383    Canada          Infrastructure       13/12/2023          \n",
              "237 49a08cde    Canada          Renewable Energy     19/09/2024          \n",
              "238 d64d432d    Canada          Renewable Energy     06/02/2025          \n",
              "239 94cdd3dc    Canada          Urban Development    10/12/2023          \n",
              "240 1a70068f    Canada          Renewable Energy     23/09/2023          \n",
              "241 f716fb8b    Canada          Environmental Policy 06/07/2023          \n",
              "242 cd65f6ec    Canada          Environmental Policy 27/09/2023          \n",
              "243 8de6e697    Canada          Environmental Policy 24/10/2024          \n",
              "244 eefb205d    Canada          Research             25/03/2024          \n",
              "245 853e578e    Canada          Environmental Policy 29/01/2025          \n",
              "246 97b73600    Canada          Infrastructure       14/04/2024          \n",
              "247 0f49c28b    Canada          Research             30/07/2024          \n",
              "248 05ae38fe    Canada          Research             01/03/2025          \n",
              "249 d02bc892    Canada          Urban Development    24/12/2023          \n",
              "250 864f9f3a    Canada          Technology           15/11/2023          \n",
              "251 13d4da42    Canada          Renewable Energy     11/05/2023          \n",
              "252 904e2999    Canada          Environmental Policy 16/12/2023          \n",
              "    Idea Title Idea Category         Number of Votes Collaboration Status\n",
              "1   Idea 2     Water Management      477             Cross-Regional Team \n",
              "2   Idea 10    Sustainable Transport   0             Single Contributor  \n",
              "3   Idea 22    Sustainable Transport 467             Cross-Regional Team \n",
              "4   Idea 28    Circular Economy      339             Single Contributor  \n",
              "5   Idea 38    Sustainable Transport  77             Cross-Regional Team \n",
              "6   Idea 47    Carbon Capture         41             Cross-Regional Team \n",
              "7   Idea 50    Sustainable Transport 196             Cross-Regional Team \n",
              "8   Idea 54    Sustainable Transport  17             Cross-Regional Team \n",
              "9   Idea 75    Sustainable Transport 117             Single Contributor  \n",
              "10  Idea 76    Water Management       78             Single Contributor  \n",
              "11  Idea 77    Carbon Capture        449             Single Contributor  \n",
              "12  Idea 110   Carbon Capture        361             Cross-Regional Team \n",
              "13  Idea 120   Sustainable Transport   4             Cross-Regional Team \n",
              "14  Idea 146   Carbon Capture        257             Cross-Regional Team \n",
              "15  Idea 149   Renewable Energy      499             Cross-Regional Team \n",
              "16  Idea 153   Carbon Capture          3             Cross-Regional Team \n",
              "17  Idea 154   Carbon Capture        402             Cross-Regional Team \n",
              "18  Idea 160   Sustainable Transport 103             Cross-Regional Team \n",
              "19  Idea 223   Water Management       83             Single Contributor  \n",
              "20  Idea 232   Renewable Energy      286             Cross-Regional Team \n",
              "21  Idea 236   Smart Cities          424             Single Contributor  \n",
              "22  Idea 238   Circular Economy      368             Cross-Regional Team \n",
              "23  Idea 240   Circular Economy      492             Single Contributor  \n",
              "24  Idea 244   Renewable Energy      277             Single Contributor  \n",
              "25  Idea 245   Carbon Capture        210             Cross-Regional Team \n",
              "26  Idea 246   Water Management      424             Cross-Regional Team \n",
              "27  Idea 248   Smart Cities          271             Cross-Regional Team \n",
              "28  Idea 254   Smart Cities          187             Single Contributor  \n",
              "29  Idea 268   Circular Economy      130             Cross-Regional Team \n",
              "30  Idea 275   Renewable Energy      495             Single Contributor  \n",
              "⋮   ⋮          ⋮                     ⋮               ⋮                   \n",
              "223 Idea 2632  Water Management      460             Single Contributor  \n",
              "224 Idea 2635  Circular Economy        5             Cross-Regional Team \n",
              "225 Idea 2644  Smart Cities          241             Cross-Regional Team \n",
              "226 Idea 2669  Water Management      312             Single Contributor  \n",
              "227 Idea 2677  Smart Cities          291             Cross-Regional Team \n",
              "228 Idea 2685  Smart Cities          159             Cross-Regional Team \n",
              "229 Idea 2689  Renewable Energy      455             Single Contributor  \n",
              "230 Idea 2692  Smart Cities           79             Single Contributor  \n",
              "231 Idea 2698  Circular Economy      115             Single Contributor  \n",
              "232 Idea 2718  Smart Cities          228             Single Contributor  \n",
              "233 Idea 2734  Water Management      150             Single Contributor  \n",
              "234 Idea 2735  Carbon Capture         28             Single Contributor  \n",
              "235 Idea 2779  Carbon Capture        256             Cross-Regional Team \n",
              "236 Idea 2785  Renewable Energy       76             Single Contributor  \n",
              "237 Idea 2787  Smart Cities          325             Single Contributor  \n",
              "238 Idea 2843  Sustainable Transport 445             Single Contributor  \n",
              "239 Idea 2845  Renewable Energy      250             Cross-Regional Team \n",
              "240 Idea 2852  Sustainable Transport 307             Single Contributor  \n",
              "241 Idea 2871  Water Management      375             Single Contributor  \n",
              "242 Idea 2877  Sustainable Transport  10             Single Contributor  \n",
              "243 Idea 2894  Smart Cities          296             Single Contributor  \n",
              "244 Idea 2917  Water Management      462             Single Contributor  \n",
              "245 Idea 2918  Renewable Energy       26             Single Contributor  \n",
              "246 Idea 2931  Circular Economy      307             Single Contributor  \n",
              "247 Idea 2941  Circular Economy       84             Cross-Regional Team \n",
              "248 Idea 2943  Sustainable Transport  70             Single Contributor  \n",
              "249 Idea 2953  Circular Economy      342             Single Contributor  \n",
              "250 Idea 2977  Sustainable Transport 409             Cross-Regional Team \n",
              "251 Idea 2990  Sustainable Transport 342             Single Contributor  \n",
              "252 Idea 2992  Smart Cities           66             Cross-Regional Team \n",
              "    Approval Status Implementation Status Security Concern Flag\n",
              "1   Approved        In Progress           No                   \n",
              "2   Pending         Not Started           No                   \n",
              "3   Approved        Not Started           No                   \n",
              "4   Approved        In Progress           No                   \n",
              "5   Rejected        Not Started           Yes                  \n",
              "6   Approved        Completed             Yes                  \n",
              "7   Rejected        Not Started           No                   \n",
              "8   Rejected        Not Started           No                   \n",
              "9   Rejected        Not Started           No                   \n",
              "10  Rejected        Not Started           No                   \n",
              "11  Pending         Not Started           No                   \n",
              "12  Rejected        Not Started           No                   \n",
              "13  Approved        Not Started           No                   \n",
              "14  Rejected        Not Started           No                   \n",
              "15  Pending         Not Started           No                   \n",
              "16  Approved        In Progress           No                   \n",
              "17  Approved        Completed             No                   \n",
              "18  Rejected        Not Started           No                   \n",
              "19  Approved        Not Started           No                   \n",
              "20  Pending         Not Started           No                   \n",
              "21  Approved        Completed             No                   \n",
              "22  Approved        Completed             No                   \n",
              "23  Rejected        Not Started           Yes                  \n",
              "24  Pending         Not Started           No                   \n",
              "25  Pending         Not Started           No                   \n",
              "26  Approved        In Progress           No                   \n",
              "27  Pending         Not Started           No                   \n",
              "28  Pending         Not Started           No                   \n",
              "29  Pending         Not Started           No                   \n",
              "30  Rejected        Not Started           No                   \n",
              "⋮   ⋮               ⋮                     ⋮                    \n",
              "223 Pending         Not Started           No                   \n",
              "224 Approved        Not Started           No                   \n",
              "225 Rejected        Not Started           No                   \n",
              "226 Approved        Not Started           No                   \n",
              "227 Pending         Not Started           No                   \n",
              "228 Rejected        Not Started           No                   \n",
              "229 Approved        Completed             No                   \n",
              "230 Rejected        Not Started           No                   \n",
              "231 Rejected        Not Started           No                   \n",
              "232 Rejected        Not Started           No                   \n",
              "233 Rejected        Not Started           Yes                  \n",
              "234 Approved        Not Started           No                   \n",
              "235 Rejected        Not Started           No                   \n",
              "236 Pending         Not Started           No                   \n",
              "237 Pending         Not Started           No                   \n",
              "238 Rejected        Not Started           Yes                  \n",
              "239 Approved        Not Started           No                   \n",
              "240 Pending         Not Started           No                   \n",
              "241 Approved        Not Started           Yes                  \n",
              "242 Rejected        Not Started           No                   \n",
              "243 Approved        Not Started           No                   \n",
              "244 Pending         Not Started           No                   \n",
              "245 Approved        Not Started           No                   \n",
              "246 Pending         Not Started           No                   \n",
              "247 Pending         Not Started           No                   \n",
              "248 Pending         Not Started           No                   \n",
              "249 Pending         Not Started           No                   \n",
              "250 Approved        Not Started           Yes                  \n",
              "251 Rejected        Not Started           No                   \n",
              "252 Pending         Not Started           No                   "
            ]
          },
          "metadata": {}
        }
      ]
    },
    {
      "cell_type": "code",
      "source": [
        "sqldf('SELECT Department, COUNT(*) AS approved_count FROM mydata WHERE \"Approval Status\" = \\'Approved\\'\n",
        "      GROUP BY Department')"
      ],
      "metadata": {
        "colab": {
          "base_uri": "https://localhost:8080/",
          "height": 286
        },
        "id": "S99GiFFuyUMh",
        "outputId": "33d77131-c15b-414f-8b15-1e29694e13b2"
      },
      "execution_count": 26,
      "outputs": [
        {
          "output_type": "display_data",
          "data": {
            "text/html": [
              "<table class=\"dataframe\">\n",
              "<caption>A data.frame: 6 × 2</caption>\n",
              "<thead>\n",
              "\t<tr><th scope=col>Department</th><th scope=col>approved_count</th></tr>\n",
              "\t<tr><th scope=col>&lt;chr&gt;</th><th scope=col>&lt;int&gt;</th></tr>\n",
              "</thead>\n",
              "<tbody>\n",
              "\t<tr><td>Environmental Policy</td><td>169</td></tr>\n",
              "\t<tr><td>Infrastructure      </td><td>183</td></tr>\n",
              "\t<tr><td>Renewable Energy    </td><td>182</td></tr>\n",
              "\t<tr><td>Research            </td><td>169</td></tr>\n",
              "\t<tr><td>Technology          </td><td>172</td></tr>\n",
              "\t<tr><td>Urban Development   </td><td>162</td></tr>\n",
              "</tbody>\n",
              "</table>\n"
            ],
            "text/markdown": "\nA data.frame: 6 × 2\n\n| Department &lt;chr&gt; | approved_count &lt;int&gt; |\n|---|---|\n| Environmental Policy | 169 |\n| Infrastructure       | 183 |\n| Renewable Energy     | 182 |\n| Research             | 169 |\n| Technology           | 172 |\n| Urban Development    | 162 |\n\n",
            "text/latex": "A data.frame: 6 × 2\n\\begin{tabular}{ll}\n Department & approved\\_count\\\\\n <chr> & <int>\\\\\n\\hline\n\t Environmental Policy & 169\\\\\n\t Infrastructure       & 183\\\\\n\t Renewable Energy     & 182\\\\\n\t Research             & 169\\\\\n\t Technology           & 172\\\\\n\t Urban Development    & 162\\\\\n\\end{tabular}\n",
            "text/plain": [
              "  Department           approved_count\n",
              "1 Environmental Policy 169           \n",
              "2 Infrastructure       183           \n",
              "3 Renewable Energy     182           \n",
              "4 Research             169           \n",
              "5 Technology           172           \n",
              "6 Urban Development    162           "
            ]
          },
          "metadata": {}
        }
      ]
    },
    {
      "cell_type": "code",
      "source": [
        "sqldf(\"SELECT \\\"Idea Title\\\", AVG(\\\"Number of Votes\\\") AS avg_votes\n",
        "       FROM mydata\n",
        "       GROUP BY \\\"Idea Title\\\"\")"
      ],
      "metadata": {
        "colab": {
          "base_uri": "https://localhost:8080/",
          "height": 1000
        },
        "id": "Z-E-QEqN4Im2",
        "outputId": "1fbdbb87-da9d-487f-f0f1-d98745ef1f23"
      },
      "execution_count": 27,
      "outputs": [
        {
          "output_type": "display_data",
          "data": {
            "text/html": [
              "<table class=\"dataframe\">\n",
              "<caption>A data.frame: 3000 × 2</caption>\n",
              "<thead>\n",
              "\t<tr><th scope=col>Idea Title</th><th scope=col>avg_votes</th></tr>\n",
              "\t<tr><th scope=col>&lt;chr&gt;</th><th scope=col>&lt;dbl&gt;</th></tr>\n",
              "</thead>\n",
              "<tbody>\n",
              "\t<tr><td>Idea 1   </td><td>231</td></tr>\n",
              "\t<tr><td>Idea 10  </td><td>  0</td></tr>\n",
              "\t<tr><td>Idea 100 </td><td>115</td></tr>\n",
              "\t<tr><td>Idea 1000</td><td>430</td></tr>\n",
              "\t<tr><td>Idea 1001</td><td> 49</td></tr>\n",
              "\t<tr><td>Idea 1002</td><td> 31</td></tr>\n",
              "\t<tr><td>Idea 1003</td><td>275</td></tr>\n",
              "\t<tr><td>Idea 1004</td><td>139</td></tr>\n",
              "\t<tr><td>Idea 1005</td><td>487</td></tr>\n",
              "\t<tr><td>Idea 1006</td><td>224</td></tr>\n",
              "\t<tr><td>Idea 1007</td><td>169</td></tr>\n",
              "\t<tr><td>Idea 1008</td><td>188</td></tr>\n",
              "\t<tr><td>Idea 1009</td><td>141</td></tr>\n",
              "\t<tr><td>Idea 101 </td><td>164</td></tr>\n",
              "\t<tr><td>Idea 1010</td><td> 89</td></tr>\n",
              "\t<tr><td>Idea 1011</td><td>407</td></tr>\n",
              "\t<tr><td>Idea 1012</td><td>378</td></tr>\n",
              "\t<tr><td>Idea 1013</td><td>170</td></tr>\n",
              "\t<tr><td>Idea 1014</td><td>373</td></tr>\n",
              "\t<tr><td>Idea 1015</td><td>320</td></tr>\n",
              "\t<tr><td>Idea 1016</td><td>307</td></tr>\n",
              "\t<tr><td>Idea 1017</td><td> 77</td></tr>\n",
              "\t<tr><td>Idea 1018</td><td>283</td></tr>\n",
              "\t<tr><td>Idea 1019</td><td> 39</td></tr>\n",
              "\t<tr><td>Idea 102 </td><td>277</td></tr>\n",
              "\t<tr><td>Idea 1020</td><td>500</td></tr>\n",
              "\t<tr><td>Idea 1021</td><td>438</td></tr>\n",
              "\t<tr><td>Idea 1022</td><td>489</td></tr>\n",
              "\t<tr><td>Idea 1023</td><td>161</td></tr>\n",
              "\t<tr><td>Idea 1024</td><td> 38</td></tr>\n",
              "\t<tr><td>⋮</td><td>⋮</td></tr>\n",
              "\t<tr><td>Idea 972</td><td>307</td></tr>\n",
              "\t<tr><td>Idea 973</td><td>292</td></tr>\n",
              "\t<tr><td>Idea 974</td><td>374</td></tr>\n",
              "\t<tr><td>Idea 975</td><td>404</td></tr>\n",
              "\t<tr><td>Idea 976</td><td>438</td></tr>\n",
              "\t<tr><td>Idea 977</td><td>243</td></tr>\n",
              "\t<tr><td>Idea 978</td><td>309</td></tr>\n",
              "\t<tr><td>Idea 979</td><td>378</td></tr>\n",
              "\t<tr><td>Idea 98 </td><td>320</td></tr>\n",
              "\t<tr><td>Idea 980</td><td>192</td></tr>\n",
              "\t<tr><td>Idea 981</td><td> 84</td></tr>\n",
              "\t<tr><td>Idea 982</td><td> 28</td></tr>\n",
              "\t<tr><td>Idea 983</td><td>278</td></tr>\n",
              "\t<tr><td>Idea 984</td><td>136</td></tr>\n",
              "\t<tr><td>Idea 985</td><td>372</td></tr>\n",
              "\t<tr><td>Idea 986</td><td>300</td></tr>\n",
              "\t<tr><td>Idea 987</td><td>114</td></tr>\n",
              "\t<tr><td>Idea 988</td><td> 52</td></tr>\n",
              "\t<tr><td>Idea 989</td><td>345</td></tr>\n",
              "\t<tr><td>Idea 99 </td><td>309</td></tr>\n",
              "\t<tr><td>Idea 990</td><td>393</td></tr>\n",
              "\t<tr><td>Idea 991</td><td>401</td></tr>\n",
              "\t<tr><td>Idea 992</td><td>287</td></tr>\n",
              "\t<tr><td>Idea 993</td><td>388</td></tr>\n",
              "\t<tr><td>Idea 994</td><td> 61</td></tr>\n",
              "\t<tr><td>Idea 995</td><td>325</td></tr>\n",
              "\t<tr><td>Idea 996</td><td> 12</td></tr>\n",
              "\t<tr><td>Idea 997</td><td>103</td></tr>\n",
              "\t<tr><td>Idea 998</td><td>385</td></tr>\n",
              "\t<tr><td>Idea 999</td><td>198</td></tr>\n",
              "</tbody>\n",
              "</table>\n"
            ],
            "text/markdown": "\nA data.frame: 3000 × 2\n\n| Idea Title &lt;chr&gt; | avg_votes &lt;dbl&gt; |\n|---|---|\n| Idea 1    | 231 |\n| Idea 10   |   0 |\n| Idea 100  | 115 |\n| Idea 1000 | 430 |\n| Idea 1001 |  49 |\n| Idea 1002 |  31 |\n| Idea 1003 | 275 |\n| Idea 1004 | 139 |\n| Idea 1005 | 487 |\n| Idea 1006 | 224 |\n| Idea 1007 | 169 |\n| Idea 1008 | 188 |\n| Idea 1009 | 141 |\n| Idea 101  | 164 |\n| Idea 1010 |  89 |\n| Idea 1011 | 407 |\n| Idea 1012 | 378 |\n| Idea 1013 | 170 |\n| Idea 1014 | 373 |\n| Idea 1015 | 320 |\n| Idea 1016 | 307 |\n| Idea 1017 |  77 |\n| Idea 1018 | 283 |\n| Idea 1019 |  39 |\n| Idea 102  | 277 |\n| Idea 1020 | 500 |\n| Idea 1021 | 438 |\n| Idea 1022 | 489 |\n| Idea 1023 | 161 |\n| Idea 1024 |  38 |\n| ⋮ | ⋮ |\n| Idea 972 | 307 |\n| Idea 973 | 292 |\n| Idea 974 | 374 |\n| Idea 975 | 404 |\n| Idea 976 | 438 |\n| Idea 977 | 243 |\n| Idea 978 | 309 |\n| Idea 979 | 378 |\n| Idea 98  | 320 |\n| Idea 980 | 192 |\n| Idea 981 |  84 |\n| Idea 982 |  28 |\n| Idea 983 | 278 |\n| Idea 984 | 136 |\n| Idea 985 | 372 |\n| Idea 986 | 300 |\n| Idea 987 | 114 |\n| Idea 988 |  52 |\n| Idea 989 | 345 |\n| Idea 99  | 309 |\n| Idea 990 | 393 |\n| Idea 991 | 401 |\n| Idea 992 | 287 |\n| Idea 993 | 388 |\n| Idea 994 |  61 |\n| Idea 995 | 325 |\n| Idea 996 |  12 |\n| Idea 997 | 103 |\n| Idea 998 | 385 |\n| Idea 999 | 198 |\n\n",
            "text/latex": "A data.frame: 3000 × 2\n\\begin{tabular}{ll}\n Idea Title & avg\\_votes\\\\\n <chr> & <dbl>\\\\\n\\hline\n\t Idea 1    & 231\\\\\n\t Idea 10   &   0\\\\\n\t Idea 100  & 115\\\\\n\t Idea 1000 & 430\\\\\n\t Idea 1001 &  49\\\\\n\t Idea 1002 &  31\\\\\n\t Idea 1003 & 275\\\\\n\t Idea 1004 & 139\\\\\n\t Idea 1005 & 487\\\\\n\t Idea 1006 & 224\\\\\n\t Idea 1007 & 169\\\\\n\t Idea 1008 & 188\\\\\n\t Idea 1009 & 141\\\\\n\t Idea 101  & 164\\\\\n\t Idea 1010 &  89\\\\\n\t Idea 1011 & 407\\\\\n\t Idea 1012 & 378\\\\\n\t Idea 1013 & 170\\\\\n\t Idea 1014 & 373\\\\\n\t Idea 1015 & 320\\\\\n\t Idea 1016 & 307\\\\\n\t Idea 1017 &  77\\\\\n\t Idea 1018 & 283\\\\\n\t Idea 1019 &  39\\\\\n\t Idea 102  & 277\\\\\n\t Idea 1020 & 500\\\\\n\t Idea 1021 & 438\\\\\n\t Idea 1022 & 489\\\\\n\t Idea 1023 & 161\\\\\n\t Idea 1024 &  38\\\\\n\t ⋮ & ⋮\\\\\n\t Idea 972 & 307\\\\\n\t Idea 973 & 292\\\\\n\t Idea 974 & 374\\\\\n\t Idea 975 & 404\\\\\n\t Idea 976 & 438\\\\\n\t Idea 977 & 243\\\\\n\t Idea 978 & 309\\\\\n\t Idea 979 & 378\\\\\n\t Idea 98  & 320\\\\\n\t Idea 980 & 192\\\\\n\t Idea 981 &  84\\\\\n\t Idea 982 &  28\\\\\n\t Idea 983 & 278\\\\\n\t Idea 984 & 136\\\\\n\t Idea 985 & 372\\\\\n\t Idea 986 & 300\\\\\n\t Idea 987 & 114\\\\\n\t Idea 988 &  52\\\\\n\t Idea 989 & 345\\\\\n\t Idea 99  & 309\\\\\n\t Idea 990 & 393\\\\\n\t Idea 991 & 401\\\\\n\t Idea 992 & 287\\\\\n\t Idea 993 & 388\\\\\n\t Idea 994 &  61\\\\\n\t Idea 995 & 325\\\\\n\t Idea 996 &  12\\\\\n\t Idea 997 & 103\\\\\n\t Idea 998 & 385\\\\\n\t Idea 999 & 198\\\\\n\\end{tabular}\n",
            "text/plain": [
              "     Idea Title avg_votes\n",
              "1    Idea 1     231      \n",
              "2    Idea 10      0      \n",
              "3    Idea 100   115      \n",
              "4    Idea 1000  430      \n",
              "5    Idea 1001   49      \n",
              "6    Idea 1002   31      \n",
              "7    Idea 1003  275      \n",
              "8    Idea 1004  139      \n",
              "9    Idea 1005  487      \n",
              "10   Idea 1006  224      \n",
              "11   Idea 1007  169      \n",
              "12   Idea 1008  188      \n",
              "13   Idea 1009  141      \n",
              "14   Idea 101   164      \n",
              "15   Idea 1010   89      \n",
              "16   Idea 1011  407      \n",
              "17   Idea 1012  378      \n",
              "18   Idea 1013  170      \n",
              "19   Idea 1014  373      \n",
              "20   Idea 1015  320      \n",
              "21   Idea 1016  307      \n",
              "22   Idea 1017   77      \n",
              "23   Idea 1018  283      \n",
              "24   Idea 1019   39      \n",
              "25   Idea 102   277      \n",
              "26   Idea 1020  500      \n",
              "27   Idea 1021  438      \n",
              "28   Idea 1022  489      \n",
              "29   Idea 1023  161      \n",
              "30   Idea 1024   38      \n",
              "⋮    ⋮          ⋮        \n",
              "2971 Idea 972   307      \n",
              "2972 Idea 973   292      \n",
              "2973 Idea 974   374      \n",
              "2974 Idea 975   404      \n",
              "2975 Idea 976   438      \n",
              "2976 Idea 977   243      \n",
              "2977 Idea 978   309      \n",
              "2978 Idea 979   378      \n",
              "2979 Idea 98    320      \n",
              "2980 Idea 980   192      \n",
              "2981 Idea 981    84      \n",
              "2982 Idea 982    28      \n",
              "2983 Idea 983   278      \n",
              "2984 Idea 984   136      \n",
              "2985 Idea 985   372      \n",
              "2986 Idea 986   300      \n",
              "2987 Idea 987   114      \n",
              "2988 Idea 988    52      \n",
              "2989 Idea 989   345      \n",
              "2990 Idea 99    309      \n",
              "2991 Idea 990   393      \n",
              "2992 Idea 991   401      \n",
              "2993 Idea 992   287      \n",
              "2994 Idea 993   388      \n",
              "2995 Idea 994    61      \n",
              "2996 Idea 995   325      \n",
              "2997 Idea 996    12      \n",
              "2998 Idea 997   103      \n",
              "2999 Idea 998   385      \n",
              "3000 Idea 999   198      "
            ]
          },
          "metadata": {}
        }
      ]
    },
    {
      "cell_type": "markdown",
      "source": [
        "Select, Add and update New Row"
      ],
      "metadata": {
        "id": "sfoWVGhLdaqa"
      }
    },
    {
      "cell_type": "code",
      "source": [
        "mydata=sqldf(\"\n",
        "  SELECT * FROM mydata\n",
        "  UNION ALL\n",
        "  SELECT 'ID3001' AS `Employee ID`,\n",
        "         'INDIA' AS `Office Location`,\n",
        "         'IND Technology' AS Department,\n",
        "         '20/05/2025' AS `Idea Submission Date`,\n",
        "         'Idea 3001' AS `Idea Title`,\n",
        "         'AI Automation' AS `Idea Category`,\n",
        "         120 AS `Number of Votes`,\n",
        "         'Team Effort' AS `Collaboration Status`,\n",
        "         'Approved' AS `Approval Status`,\n",
        "         'In Progress' AS `Implementation Status`,\n",
        "         'Yes' AS `Security Concern Flag`\n",
        "\")\n",
        "\n",
        "tail(mydata)"
      ],
      "metadata": {
        "colab": {
          "base_uri": "https://localhost:8080/",
          "height": 425
        },
        "id": "44AIQuS84s7f",
        "outputId": "e928f25c-d88a-4bc8-f5c9-e4c80ab3e55b"
      },
      "execution_count": 28,
      "outputs": [
        {
          "output_type": "display_data",
          "data": {
            "text/html": [
              "<table class=\"dataframe\">\n",
              "<caption>A data.frame: 6 × 11</caption>\n",
              "<thead>\n",
              "\t<tr><th></th><th scope=col>Employee ID</th><th scope=col>Office Location</th><th scope=col>Department</th><th scope=col>Idea Submission Date</th><th scope=col>Idea Title</th><th scope=col>Idea Category</th><th scope=col>Number of Votes</th><th scope=col>Collaboration Status</th><th scope=col>Approval Status</th><th scope=col>Implementation Status</th><th scope=col>Security Concern Flag</th></tr>\n",
              "\t<tr><th></th><th scope=col>&lt;chr&gt;</th><th scope=col>&lt;chr&gt;</th><th scope=col>&lt;chr&gt;</th><th scope=col>&lt;chr&gt;</th><th scope=col>&lt;chr&gt;</th><th scope=col>&lt;chr&gt;</th><th scope=col>&lt;dbl&gt;</th><th scope=col>&lt;chr&gt;</th><th scope=col>&lt;chr&gt;</th><th scope=col>&lt;chr&gt;</th><th scope=col>&lt;chr&gt;</th></tr>\n",
              "</thead>\n",
              "<tbody>\n",
              "\t<tr><th scope=row>2996</th><td>49ba8fa1</td><td>France</td><td>Technology          </td><td>22/02/2024</td><td>Idea 2996</td><td>Renewable Energy     </td><td>405</td><td>Single Contributor </td><td>Rejected</td><td>Not Started</td><td>No </td></tr>\n",
              "\t<tr><th scope=row>2997</th><td>3d158062</td><td>Japan </td><td>Environmental Policy</td><td>12/04/2023</td><td>Idea 2997</td><td>Sustainable Transport</td><td>212</td><td>Cross-Regional Team</td><td>Pending </td><td>Not Started</td><td>No </td></tr>\n",
              "\t<tr><th scope=row>2998</th><td>a9214134</td><td>Japan </td><td>Urban Development   </td><td>18/10/2023</td><td>Idea 2998</td><td>Sustainable Transport</td><td>207</td><td>Single Contributor </td><td>Approved</td><td>Completed  </td><td>No </td></tr>\n",
              "\t<tr><th scope=row>2999</th><td>f2bf1145</td><td>Japan </td><td>Environmental Policy</td><td>06/10/2024</td><td>Idea 2999</td><td>Sustainable Transport</td><td>227</td><td>Single Contributor </td><td>Approved</td><td>Completed  </td><td>No </td></tr>\n",
              "\t<tr><th scope=row>3000</th><td>010a6890</td><td>Brazil</td><td>Environmental Policy</td><td>19/12/2024</td><td>Idea 3000</td><td>Smart Cities         </td><td>264</td><td>Cross-Regional Team</td><td>Pending </td><td>Not Started</td><td>No </td></tr>\n",
              "\t<tr><th scope=row>3001</th><td>ID3001  </td><td>INDIA </td><td>IND Technology      </td><td>20/05/2025</td><td>Idea 3001</td><td>AI Automation        </td><td>120</td><td>Team Effort        </td><td>Approved</td><td>In Progress</td><td>Yes</td></tr>\n",
              "</tbody>\n",
              "</table>\n"
            ],
            "text/markdown": "\nA data.frame: 6 × 11\n\n| <!--/--> | Employee ID &lt;chr&gt; | Office Location &lt;chr&gt; | Department &lt;chr&gt; | Idea Submission Date &lt;chr&gt; | Idea Title &lt;chr&gt; | Idea Category &lt;chr&gt; | Number of Votes &lt;dbl&gt; | Collaboration Status &lt;chr&gt; | Approval Status &lt;chr&gt; | Implementation Status &lt;chr&gt; | Security Concern Flag &lt;chr&gt; |\n|---|---|---|---|---|---|---|---|---|---|---|---|\n| 2996 | 49ba8fa1 | France | Technology           | 22/02/2024 | Idea 2996 | Renewable Energy      | 405 | Single Contributor  | Rejected | Not Started | No  |\n| 2997 | 3d158062 | Japan  | Environmental Policy | 12/04/2023 | Idea 2997 | Sustainable Transport | 212 | Cross-Regional Team | Pending  | Not Started | No  |\n| 2998 | a9214134 | Japan  | Urban Development    | 18/10/2023 | Idea 2998 | Sustainable Transport | 207 | Single Contributor  | Approved | Completed   | No  |\n| 2999 | f2bf1145 | Japan  | Environmental Policy | 06/10/2024 | Idea 2999 | Sustainable Transport | 227 | Single Contributor  | Approved | Completed   | No  |\n| 3000 | 010a6890 | Brazil | Environmental Policy | 19/12/2024 | Idea 3000 | Smart Cities          | 264 | Cross-Regional Team | Pending  | Not Started | No  |\n| 3001 | ID3001   | INDIA  | IND Technology       | 20/05/2025 | Idea 3001 | AI Automation         | 120 | Team Effort         | Approved | In Progress | Yes |\n\n",
            "text/latex": "A data.frame: 6 × 11\n\\begin{tabular}{r|lllllllllll}\n  & Employee ID & Office Location & Department & Idea Submission Date & Idea Title & Idea Category & Number of Votes & Collaboration Status & Approval Status & Implementation Status & Security Concern Flag\\\\\n  & <chr> & <chr> & <chr> & <chr> & <chr> & <chr> & <dbl> & <chr> & <chr> & <chr> & <chr>\\\\\n\\hline\n\t2996 & 49ba8fa1 & France & Technology           & 22/02/2024 & Idea 2996 & Renewable Energy      & 405 & Single Contributor  & Rejected & Not Started & No \\\\\n\t2997 & 3d158062 & Japan  & Environmental Policy & 12/04/2023 & Idea 2997 & Sustainable Transport & 212 & Cross-Regional Team & Pending  & Not Started & No \\\\\n\t2998 & a9214134 & Japan  & Urban Development    & 18/10/2023 & Idea 2998 & Sustainable Transport & 207 & Single Contributor  & Approved & Completed   & No \\\\\n\t2999 & f2bf1145 & Japan  & Environmental Policy & 06/10/2024 & Idea 2999 & Sustainable Transport & 227 & Single Contributor  & Approved & Completed   & No \\\\\n\t3000 & 010a6890 & Brazil & Environmental Policy & 19/12/2024 & Idea 3000 & Smart Cities          & 264 & Cross-Regional Team & Pending  & Not Started & No \\\\\n\t3001 & ID3001   & INDIA  & IND Technology       & 20/05/2025 & Idea 3001 & AI Automation         & 120 & Team Effort         & Approved & In Progress & Yes\\\\\n\\end{tabular}\n",
            "text/plain": [
              "     Employee ID Office Location Department           Idea Submission Date\n",
              "2996 49ba8fa1    France          Technology           22/02/2024          \n",
              "2997 3d158062    Japan           Environmental Policy 12/04/2023          \n",
              "2998 a9214134    Japan           Urban Development    18/10/2023          \n",
              "2999 f2bf1145    Japan           Environmental Policy 06/10/2024          \n",
              "3000 010a6890    Brazil          Environmental Policy 19/12/2024          \n",
              "3001 ID3001      INDIA           IND Technology       20/05/2025          \n",
              "     Idea Title Idea Category         Number of Votes Collaboration Status\n",
              "2996 Idea 2996  Renewable Energy      405             Single Contributor  \n",
              "2997 Idea 2997  Sustainable Transport 212             Cross-Regional Team \n",
              "2998 Idea 2998  Sustainable Transport 207             Single Contributor  \n",
              "2999 Idea 2999  Sustainable Transport 227             Single Contributor  \n",
              "3000 Idea 3000  Smart Cities          264             Cross-Regional Team \n",
              "3001 Idea 3001  AI Automation         120             Team Effort         \n",
              "     Approval Status Implementation Status Security Concern Flag\n",
              "2996 Rejected        Not Started           No                   \n",
              "2997 Pending         Not Started           No                   \n",
              "2998 Approved        Completed             No                   \n",
              "2999 Approved        Completed             No                   \n",
              "3000 Pending         Not Started           No                   \n",
              "3001 Approved        In Progress           Yes                  "
            ]
          },
          "metadata": {}
        }
      ]
    },
    {
      "cell_type": "markdown",
      "source": [
        "Delete: remove added row"
      ],
      "metadata": {
        "id": "cMARgDlFgxUZ"
      }
    },
    {
      "cell_type": "code",
      "source": [
        "\n",
        "mydata=sqldf('SELECT * FROM mydata WHERE \"Employee ID\" != \"ID3001\"')\n",
        "tail(mydata)\n"
      ],
      "metadata": {
        "colab": {
          "base_uri": "https://localhost:8080/",
          "height": 425
        },
        "id": "aH5STSkQ6VBG",
        "outputId": "de6019de-7bb0-4d09-9766-65e7ab1c7dcc"
      },
      "execution_count": 31,
      "outputs": [
        {
          "output_type": "display_data",
          "data": {
            "text/html": [
              "<table class=\"dataframe\">\n",
              "<caption>A data.frame: 6 × 11</caption>\n",
              "<thead>\n",
              "\t<tr><th></th><th scope=col>Employee ID</th><th scope=col>Office Location</th><th scope=col>Department</th><th scope=col>Idea Submission Date</th><th scope=col>Idea Title</th><th scope=col>Idea Category</th><th scope=col>Number of Votes</th><th scope=col>Collaboration Status</th><th scope=col>Approval Status</th><th scope=col>Implementation Status</th><th scope=col>Security Concern Flag</th></tr>\n",
              "\t<tr><th></th><th scope=col>&lt;chr&gt;</th><th scope=col>&lt;chr&gt;</th><th scope=col>&lt;chr&gt;</th><th scope=col>&lt;chr&gt;</th><th scope=col>&lt;chr&gt;</th><th scope=col>&lt;chr&gt;</th><th scope=col>&lt;dbl&gt;</th><th scope=col>&lt;chr&gt;</th><th scope=col>&lt;chr&gt;</th><th scope=col>&lt;chr&gt;</th><th scope=col>&lt;chr&gt;</th></tr>\n",
              "</thead>\n",
              "<tbody>\n",
              "\t<tr><th scope=row>2995</th><td>2440020 </td><td>Mexico</td><td>Environmental Policy</td><td>26/10/2023</td><td>Idea 2995</td><td>Sustainable Transport</td><td>255</td><td>Single Contributor </td><td>Pending </td><td>Not Started</td><td>No</td></tr>\n",
              "\t<tr><th scope=row>2996</th><td>49ba8fa1</td><td>France</td><td>Technology          </td><td>22/02/2024</td><td>Idea 2996</td><td>Renewable Energy     </td><td>405</td><td>Single Contributor </td><td>Rejected</td><td>Not Started</td><td>No</td></tr>\n",
              "\t<tr><th scope=row>2997</th><td>3d158062</td><td>Japan </td><td>Environmental Policy</td><td>12/04/2023</td><td>Idea 2997</td><td>Sustainable Transport</td><td>212</td><td>Cross-Regional Team</td><td>Pending </td><td>Not Started</td><td>No</td></tr>\n",
              "\t<tr><th scope=row>2998</th><td>a9214134</td><td>Japan </td><td>Urban Development   </td><td>18/10/2023</td><td>Idea 2998</td><td>Sustainable Transport</td><td>207</td><td>Single Contributor </td><td>Approved</td><td>Completed  </td><td>No</td></tr>\n",
              "\t<tr><th scope=row>2999</th><td>f2bf1145</td><td>Japan </td><td>Environmental Policy</td><td>06/10/2024</td><td>Idea 2999</td><td>Sustainable Transport</td><td>227</td><td>Single Contributor </td><td>Approved</td><td>Completed  </td><td>No</td></tr>\n",
              "\t<tr><th scope=row>3000</th><td>010a6890</td><td>Brazil</td><td>Environmental Policy</td><td>19/12/2024</td><td>Idea 3000</td><td>Smart Cities         </td><td>264</td><td>Cross-Regional Team</td><td>Pending </td><td>Not Started</td><td>No</td></tr>\n",
              "</tbody>\n",
              "</table>\n"
            ],
            "text/markdown": "\nA data.frame: 6 × 11\n\n| <!--/--> | Employee ID &lt;chr&gt; | Office Location &lt;chr&gt; | Department &lt;chr&gt; | Idea Submission Date &lt;chr&gt; | Idea Title &lt;chr&gt; | Idea Category &lt;chr&gt; | Number of Votes &lt;dbl&gt; | Collaboration Status &lt;chr&gt; | Approval Status &lt;chr&gt; | Implementation Status &lt;chr&gt; | Security Concern Flag &lt;chr&gt; |\n|---|---|---|---|---|---|---|---|---|---|---|---|\n| 2995 | 2440020  | Mexico | Environmental Policy | 26/10/2023 | Idea 2995 | Sustainable Transport | 255 | Single Contributor  | Pending  | Not Started | No |\n| 2996 | 49ba8fa1 | France | Technology           | 22/02/2024 | Idea 2996 | Renewable Energy      | 405 | Single Contributor  | Rejected | Not Started | No |\n| 2997 | 3d158062 | Japan  | Environmental Policy | 12/04/2023 | Idea 2997 | Sustainable Transport | 212 | Cross-Regional Team | Pending  | Not Started | No |\n| 2998 | a9214134 | Japan  | Urban Development    | 18/10/2023 | Idea 2998 | Sustainable Transport | 207 | Single Contributor  | Approved | Completed   | No |\n| 2999 | f2bf1145 | Japan  | Environmental Policy | 06/10/2024 | Idea 2999 | Sustainable Transport | 227 | Single Contributor  | Approved | Completed   | No |\n| 3000 | 010a6890 | Brazil | Environmental Policy | 19/12/2024 | Idea 3000 | Smart Cities          | 264 | Cross-Regional Team | Pending  | Not Started | No |\n\n",
            "text/latex": "A data.frame: 6 × 11\n\\begin{tabular}{r|lllllllllll}\n  & Employee ID & Office Location & Department & Idea Submission Date & Idea Title & Idea Category & Number of Votes & Collaboration Status & Approval Status & Implementation Status & Security Concern Flag\\\\\n  & <chr> & <chr> & <chr> & <chr> & <chr> & <chr> & <dbl> & <chr> & <chr> & <chr> & <chr>\\\\\n\\hline\n\t2995 & 2440020  & Mexico & Environmental Policy & 26/10/2023 & Idea 2995 & Sustainable Transport & 255 & Single Contributor  & Pending  & Not Started & No\\\\\n\t2996 & 49ba8fa1 & France & Technology           & 22/02/2024 & Idea 2996 & Renewable Energy      & 405 & Single Contributor  & Rejected & Not Started & No\\\\\n\t2997 & 3d158062 & Japan  & Environmental Policy & 12/04/2023 & Idea 2997 & Sustainable Transport & 212 & Cross-Regional Team & Pending  & Not Started & No\\\\\n\t2998 & a9214134 & Japan  & Urban Development    & 18/10/2023 & Idea 2998 & Sustainable Transport & 207 & Single Contributor  & Approved & Completed   & No\\\\\n\t2999 & f2bf1145 & Japan  & Environmental Policy & 06/10/2024 & Idea 2999 & Sustainable Transport & 227 & Single Contributor  & Approved & Completed   & No\\\\\n\t3000 & 010a6890 & Brazil & Environmental Policy & 19/12/2024 & Idea 3000 & Smart Cities          & 264 & Cross-Regional Team & Pending  & Not Started & No\\\\\n\\end{tabular}\n",
            "text/plain": [
              "     Employee ID Office Location Department           Idea Submission Date\n",
              "2995 2440020     Mexico          Environmental Policy 26/10/2023          \n",
              "2996 49ba8fa1    France          Technology           22/02/2024          \n",
              "2997 3d158062    Japan           Environmental Policy 12/04/2023          \n",
              "2998 a9214134    Japan           Urban Development    18/10/2023          \n",
              "2999 f2bf1145    Japan           Environmental Policy 06/10/2024          \n",
              "3000 010a6890    Brazil          Environmental Policy 19/12/2024          \n",
              "     Idea Title Idea Category         Number of Votes Collaboration Status\n",
              "2995 Idea 2995  Sustainable Transport 255             Single Contributor  \n",
              "2996 Idea 2996  Renewable Energy      405             Single Contributor  \n",
              "2997 Idea 2997  Sustainable Transport 212             Cross-Regional Team \n",
              "2998 Idea 2998  Sustainable Transport 207             Single Contributor  \n",
              "2999 Idea 2999  Sustainable Transport 227             Single Contributor  \n",
              "3000 Idea 3000  Smart Cities          264             Cross-Regional Team \n",
              "     Approval Status Implementation Status Security Concern Flag\n",
              "2995 Pending         Not Started           No                   \n",
              "2996 Rejected        Not Started           No                   \n",
              "2997 Pending         Not Started           No                   \n",
              "2998 Approved        Completed             No                   \n",
              "2999 Approved        Completed             No                   \n",
              "3000 Pending         Not Started           No                   "
            ]
          },
          "metadata": {}
        }
      ]
    },
    {
      "cell_type": "markdown",
      "source": [
        "#Executing SQL Queries in R for Innovation Analysis and Optimization in a Global Sustainability Firm: (4 Marks)"
      ],
      "metadata": {
        "id": "oAvfygmftsoA"
      }
    },
    {
      "cell_type": "code",
      "source": [
        "#install.packages(\"dplyr\")\n",
        "library(dplyr)\n"
      ],
      "metadata": {
        "id": "iRIQMgGOg48J"
      },
      "execution_count": 33,
      "outputs": []
    },
    {
      "cell_type": "markdown",
      "source": [
        "Idea Submissions"
      ],
      "metadata": {
        "id": "Nz-kQFtyhymB"
      }
    },
    {
      "cell_type": "code",
      "source": [
        "sqldf(\"SELECT [Office Location], COUNT(*) AS Total_Ideas\n",
        "       FROM mydata\n",
        "       GROUP BY [Office Location]\n",
        "       ORDER BY Total_Ideas DESC\")\n"
      ],
      "metadata": {
        "colab": {
          "base_uri": "https://localhost:8080/",
          "height": 474
        },
        "id": "_N_1v26ig4-_",
        "outputId": "b09c4391-5227-48ec-ed7f-3ac006fffba5"
      },
      "execution_count": 49,
      "outputs": [
        {
          "output_type": "display_data",
          "data": {
            "text/html": [
              "<table class=\"dataframe\">\n",
              "<caption>A data.frame: 12 × 2</caption>\n",
              "<thead>\n",
              "\t<tr><th scope=col>Office Location</th><th scope=col>Total_Ideas</th></tr>\n",
              "\t<tr><th scope=col>&lt;chr&gt;</th><th scope=col>&lt;int&gt;</th></tr>\n",
              "</thead>\n",
              "<tbody>\n",
              "\t<tr><td>China       </td><td>280</td></tr>\n",
              "\t<tr><td>France      </td><td>266</td></tr>\n",
              "\t<tr><td>South Africa</td><td>260</td></tr>\n",
              "\t<tr><td>Japan       </td><td>259</td></tr>\n",
              "\t<tr><td>UK          </td><td>257</td></tr>\n",
              "\t<tr><td>Germany     </td><td>252</td></tr>\n",
              "\t<tr><td>Canada      </td><td>252</td></tr>\n",
              "\t<tr><td>Australia   </td><td>244</td></tr>\n",
              "\t<tr><td>USA         </td><td>241</td></tr>\n",
              "\t<tr><td>Mexico      </td><td>240</td></tr>\n",
              "\t<tr><td>Brazil      </td><td>227</td></tr>\n",
              "\t<tr><td>India       </td><td>222</td></tr>\n",
              "</tbody>\n",
              "</table>\n"
            ],
            "text/markdown": "\nA data.frame: 12 × 2\n\n| Office Location &lt;chr&gt; | Total_Ideas &lt;int&gt; |\n|---|---|\n| China        | 280 |\n| France       | 266 |\n| South Africa | 260 |\n| Japan        | 259 |\n| UK           | 257 |\n| Germany      | 252 |\n| Canada       | 252 |\n| Australia    | 244 |\n| USA          | 241 |\n| Mexico       | 240 |\n| Brazil       | 227 |\n| India        | 222 |\n\n",
            "text/latex": "A data.frame: 12 × 2\n\\begin{tabular}{ll}\n Office Location & Total\\_Ideas\\\\\n <chr> & <int>\\\\\n\\hline\n\t China        & 280\\\\\n\t France       & 266\\\\\n\t South Africa & 260\\\\\n\t Japan        & 259\\\\\n\t UK           & 257\\\\\n\t Germany      & 252\\\\\n\t Canada       & 252\\\\\n\t Australia    & 244\\\\\n\t USA          & 241\\\\\n\t Mexico       & 240\\\\\n\t Brazil       & 227\\\\\n\t India        & 222\\\\\n\\end{tabular}\n",
            "text/plain": [
              "   Office Location Total_Ideas\n",
              "1  China           280        \n",
              "2  France          266        \n",
              "3  South Africa    260        \n",
              "4  Japan           259        \n",
              "5  UK              257        \n",
              "6  Germany         252        \n",
              "7  Canada          252        \n",
              "8  Australia       244        \n",
              "9  USA             241        \n",
              "10 Mexico          240        \n",
              "11 Brazil          227        \n",
              "12 India           222        "
            ]
          },
          "metadata": {}
        }
      ]
    },
    {
      "cell_type": "markdown",
      "source": [
        "Monthly submission trend"
      ],
      "metadata": {
        "id": "qOJ4NAzNiARE"
      }
    },
    {
      "cell_type": "code",
      "source": [
        "mydata <- read_csv(\"/content/Coursework-/greenfuture_ideas_dataset.csv\")\n",
        "mydata <- subset(mydata, !is.na(as.Date(`Idea Submission Date`, \"%d/%m/%Y\")))\n",
        "mydata$`Idea Submission Date` <- format(as.Date(mydata$`Idea Submission Date`, \"%d/%m/%Y\"), \"%Y-%m-%d\")\n",
        "\n",
        "print(sqldf(\"\n",
        "  SELECT strftime('%Y-%m', [Idea Submission Date]) AS Month, COUNT(*) AS Total_Ideas\n",
        "  FROM mydata\n",
        "  GROUP BY Month\n",
        "  ORDER BY Month\n",
        "\"))"
      ],
      "metadata": {
        "colab": {
          "base_uri": "https://localhost:8080/"
        },
        "id": "sYN8woVXk--w",
        "outputId": "4f24350d-2f65-457b-e235-9a06cc750083"
      },
      "execution_count": 77,
      "outputs": [
        {
          "output_type": "stream",
          "name": "stderr",
          "text": [
            "\u001b[1mRows: \u001b[22m\u001b[34m3000\u001b[39m \u001b[1mColumns: \u001b[22m\u001b[34m11\u001b[39m\n",
            "\u001b[36m──\u001b[39m \u001b[1mColumn specification\u001b[22m \u001b[36m────────────────────────────────────────────────────────\u001b[39m\n",
            "\u001b[1mDelimiter:\u001b[22m \",\"\n",
            "\u001b[31mchr\u001b[39m (10): Employee ID, Office Location, Department, Idea Submission Date, Id...\n",
            "\u001b[32mdbl\u001b[39m  (1): Number of Votes\n",
            "\n",
            "\u001b[36mℹ\u001b[39m Use `spec()` to retrieve the full column specification for this data.\n",
            "\u001b[36mℹ\u001b[39m Specify the column types or set `show_col_types = FALSE` to quiet this message.\n"
          ]
        },
        {
          "output_type": "stream",
          "name": "stdout",
          "text": [
            "     Month Total_Ideas\n",
            "1  2023-03         107\n",
            "2  2023-04         121\n",
            "3  2023-05         145\n",
            "4  2023-06         121\n",
            "5  2023-07         124\n",
            "6  2023-08         121\n",
            "7  2023-09         128\n",
            "8  2023-10         132\n",
            "9  2023-11         112\n",
            "10 2023-12         115\n",
            "11 2024-01         140\n",
            "12 2024-02         108\n",
            "13 2024-03         127\n",
            "14 2024-04         131\n",
            "15 2024-05         126\n",
            "16 2024-06         138\n",
            "17 2024-07         130\n",
            "18 2024-08         128\n",
            "19 2024-09         139\n",
            "20 2024-10         130\n",
            "21 2024-11         122\n",
            "22 2024-12         114\n",
            "23 2025-01         114\n",
            "24 2025-02         102\n",
            "25 2025-03          25\n"
          ]
        }
      ]
    },
    {
      "cell_type": "markdown",
      "source": [
        "Voting Patterns"
      ],
      "metadata": {
        "id": "KZBv8dbslrn4"
      }
    },
    {
      "cell_type": "code",
      "source": [
        "sqldf(\"SELECT [Idea Category], AVG([Number of Votes]) AS Avg_Votes\n",
        "       FROM mydata\n",
        "       GROUP BY [Idea Category]\n",
        "       ORDER BY Avg_Votes DESC\")\n"
      ],
      "metadata": {
        "colab": {
          "base_uri": "https://localhost:8080/",
          "height": 286
        },
        "id": "4tx359i4lxZB",
        "outputId": "6f15f8e1-0681-4786-ee96-ca8614485132"
      },
      "execution_count": 63,
      "outputs": [
        {
          "output_type": "display_data",
          "data": {
            "text/html": [
              "<table class=\"dataframe\">\n",
              "<caption>A data.frame: 6 × 2</caption>\n",
              "<thead>\n",
              "\t<tr><th scope=col>Idea Category</th><th scope=col>Avg_Votes</th></tr>\n",
              "\t<tr><th scope=col>&lt;chr&gt;</th><th scope=col>&lt;dbl&gt;</th></tr>\n",
              "</thead>\n",
              "<tbody>\n",
              "\t<tr><td>Water Management     </td><td>255.6382</td></tr>\n",
              "\t<tr><td>Carbon Capture       </td><td>249.1674</td></tr>\n",
              "\t<tr><td>Renewable Energy     </td><td>247.8480</td></tr>\n",
              "\t<tr><td>Sustainable Transport</td><td>247.0312</td></tr>\n",
              "\t<tr><td>Circular Economy     </td><td>245.7742</td></tr>\n",
              "\t<tr><td>Smart Cities         </td><td>244.7526</td></tr>\n",
              "</tbody>\n",
              "</table>\n"
            ],
            "text/markdown": "\nA data.frame: 6 × 2\n\n| Idea Category &lt;chr&gt; | Avg_Votes &lt;dbl&gt; |\n|---|---|\n| Water Management      | 255.6382 |\n| Carbon Capture        | 249.1674 |\n| Renewable Energy      | 247.8480 |\n| Sustainable Transport | 247.0312 |\n| Circular Economy      | 245.7742 |\n| Smart Cities          | 244.7526 |\n\n",
            "text/latex": "A data.frame: 6 × 2\n\\begin{tabular}{ll}\n Idea Category & Avg\\_Votes\\\\\n <chr> & <dbl>\\\\\n\\hline\n\t Water Management      & 255.6382\\\\\n\t Carbon Capture        & 249.1674\\\\\n\t Renewable Energy      & 247.8480\\\\\n\t Sustainable Transport & 247.0312\\\\\n\t Circular Economy      & 245.7742\\\\\n\t Smart Cities          & 244.7526\\\\\n\\end{tabular}\n",
            "text/plain": [
              "  Idea Category         Avg_Votes\n",
              "1 Water Management      255.6382 \n",
              "2 Carbon Capture        249.1674 \n",
              "3 Renewable Energy      247.8480 \n",
              "4 Sustainable Transport 247.0312 \n",
              "5 Circular Economy      245.7742 \n",
              "6 Smart Cities          244.7526 "
            ]
          },
          "metadata": {}
        }
      ]
    },
    {
      "cell_type": "markdown",
      "source": [
        "Collaboration Trends"
      ],
      "metadata": {
        "id": "uLT0_Q_zl4RK"
      }
    },
    {
      "cell_type": "code",
      "source": [
        "sqldf(\"SELECT [Collaboration Status], COUNT(*) AS Submission_Count\n",
        "       FROM mydata\n",
        "       GROUP BY [Collaboration Status]\")\n"
      ],
      "metadata": {
        "colab": {
          "base_uri": "https://localhost:8080/",
          "height": 161
        },
        "id": "0Vl_M7nelxb3",
        "outputId": "9fefbb49-9cac-4127-dfe4-33a173749e6b"
      },
      "execution_count": 64,
      "outputs": [
        {
          "output_type": "display_data",
          "data": {
            "text/html": [
              "<table class=\"dataframe\">\n",
              "<caption>A data.frame: 2 × 2</caption>\n",
              "<thead>\n",
              "\t<tr><th scope=col>Collaboration Status</th><th scope=col>Submission_Count</th></tr>\n",
              "\t<tr><th scope=col>&lt;chr&gt;</th><th scope=col>&lt;int&gt;</th></tr>\n",
              "</thead>\n",
              "<tbody>\n",
              "\t<tr><td>Cross-Regional Team</td><td>1455</td></tr>\n",
              "\t<tr><td>Single Contributor </td><td>1545</td></tr>\n",
              "</tbody>\n",
              "</table>\n"
            ],
            "text/markdown": "\nA data.frame: 2 × 2\n\n| Collaboration Status &lt;chr&gt; | Submission_Count &lt;int&gt; |\n|---|---|\n| Cross-Regional Team | 1455 |\n| Single Contributor  | 1545 |\n\n",
            "text/latex": "A data.frame: 2 × 2\n\\begin{tabular}{ll}\n Collaboration Status & Submission\\_Count\\\\\n <chr> & <int>\\\\\n\\hline\n\t Cross-Regional Team & 1455\\\\\n\t Single Contributor  & 1545\\\\\n\\end{tabular}\n",
            "text/plain": [
              "  Collaboration Status Submission_Count\n",
              "1 Cross-Regional Team  1455            \n",
              "2 Single Contributor   1545            "
            ]
          },
          "metadata": {}
        }
      ]
    },
    {
      "cell_type": "code",
      "source": [
        "sqldf(\"SELECT [Collaboration Status],\n",
        "              COUNT(*) AS Total,\n",
        "              SUM(CASE WHEN [Approval Status] = 'Approved' THEN 1 ELSE 0 END) AS Approved,\n",
        "              ROUND(100.0 * SUM(CASE WHEN [Approval Status] = 'Approved' THEN 1 ELSE 0 END)/COUNT(*), 2) AS Approval_Rate\n",
        "       FROM mydata\n",
        "       GROUP BY [Collaboration Status]\")\n"
      ],
      "metadata": {
        "colab": {
          "base_uri": "https://localhost:8080/",
          "height": 161
        },
        "id": "zOl-zL7rlxel",
        "outputId": "8eeedfe4-2668-49ee-c090-8e2308651256"
      },
      "execution_count": 65,
      "outputs": [
        {
          "output_type": "display_data",
          "data": {
            "text/html": [
              "<table class=\"dataframe\">\n",
              "<caption>A data.frame: 2 × 4</caption>\n",
              "<thead>\n",
              "\t<tr><th scope=col>Collaboration Status</th><th scope=col>Total</th><th scope=col>Approved</th><th scope=col>Approval_Rate</th></tr>\n",
              "\t<tr><th scope=col>&lt;chr&gt;</th><th scope=col>&lt;int&gt;</th><th scope=col>&lt;int&gt;</th><th scope=col>&lt;dbl&gt;</th></tr>\n",
              "</thead>\n",
              "<tbody>\n",
              "\t<tr><td>Cross-Regional Team</td><td>1455</td><td>491</td><td>33.75</td></tr>\n",
              "\t<tr><td>Single Contributor </td><td>1545</td><td>546</td><td>35.34</td></tr>\n",
              "</tbody>\n",
              "</table>\n"
            ],
            "text/markdown": "\nA data.frame: 2 × 4\n\n| Collaboration Status &lt;chr&gt; | Total &lt;int&gt; | Approved &lt;int&gt; | Approval_Rate &lt;dbl&gt; |\n|---|---|---|---|\n| Cross-Regional Team | 1455 | 491 | 33.75 |\n| Single Contributor  | 1545 | 546 | 35.34 |\n\n",
            "text/latex": "A data.frame: 2 × 4\n\\begin{tabular}{llll}\n Collaboration Status & Total & Approved & Approval\\_Rate\\\\\n <chr> & <int> & <int> & <dbl>\\\\\n\\hline\n\t Cross-Regional Team & 1455 & 491 & 33.75\\\\\n\t Single Contributor  & 1545 & 546 & 35.34\\\\\n\\end{tabular}\n",
            "text/plain": [
              "  Collaboration Status Total Approved Approval_Rate\n",
              "1 Cross-Regional Team  1455  491      33.75        \n",
              "2 Single Contributor   1545  546      35.34        "
            ]
          },
          "metadata": {}
        }
      ]
    },
    {
      "cell_type": "markdown",
      "source": [
        "Approval Rates"
      ],
      "metadata": {
        "id": "hQw4wtK6mOKK"
      }
    },
    {
      "cell_type": "code",
      "source": [
        "sqldf(\"SELECT [Office Location],\n",
        "              COUNT(*) AS Total_Ideas,\n",
        "              SUM(CASE WHEN [Approval Status] = 'Approved' THEN 1 ELSE 0 END) AS Approved_Ideas,\n",
        "              ROUND(100.0 * SUM(CASE WHEN [Approval Status] = 'Approved' THEN 1 ELSE 0 END)/COUNT(*), 2) AS Approval_Rate\n",
        "       FROM mydata\n",
        "       GROUP BY [Office Location]\n",
        "       ORDER BY Approval_Rate DESC\")\n"
      ],
      "metadata": {
        "colab": {
          "base_uri": "https://localhost:8080/",
          "height": 474
        },
        "id": "2TyghCsXmGTE",
        "outputId": "9d5aa58f-099a-4f60-b235-951d76f8890d"
      },
      "execution_count": 66,
      "outputs": [
        {
          "output_type": "display_data",
          "data": {
            "text/html": [
              "<table class=\"dataframe\">\n",
              "<caption>A data.frame: 12 × 4</caption>\n",
              "<thead>\n",
              "\t<tr><th scope=col>Office Location</th><th scope=col>Total_Ideas</th><th scope=col>Approved_Ideas</th><th scope=col>Approval_Rate</th></tr>\n",
              "\t<tr><th scope=col>&lt;chr&gt;</th><th scope=col>&lt;int&gt;</th><th scope=col>&lt;int&gt;</th><th scope=col>&lt;dbl&gt;</th></tr>\n",
              "</thead>\n",
              "<tbody>\n",
              "\t<tr><td>South Africa</td><td>260</td><td>107</td><td>41.15</td></tr>\n",
              "\t<tr><td>Brazil      </td><td>227</td><td> 86</td><td>37.89</td></tr>\n",
              "\t<tr><td>USA         </td><td>241</td><td> 90</td><td>37.34</td></tr>\n",
              "\t<tr><td>Germany     </td><td>252</td><td> 91</td><td>36.11</td></tr>\n",
              "\t<tr><td>UK          </td><td>257</td><td> 90</td><td>35.02</td></tr>\n",
              "\t<tr><td>Canada      </td><td>252</td><td> 87</td><td>34.52</td></tr>\n",
              "\t<tr><td>China       </td><td>280</td><td> 95</td><td>33.93</td></tr>\n",
              "\t<tr><td>Mexico      </td><td>240</td><td> 81</td><td>33.75</td></tr>\n",
              "\t<tr><td>Japan       </td><td>259</td><td> 84</td><td>32.43</td></tr>\n",
              "\t<tr><td>Australia   </td><td>244</td><td> 79</td><td>32.38</td></tr>\n",
              "\t<tr><td>India       </td><td>222</td><td> 69</td><td>31.08</td></tr>\n",
              "\t<tr><td>France      </td><td>266</td><td> 78</td><td>29.32</td></tr>\n",
              "</tbody>\n",
              "</table>\n"
            ],
            "text/markdown": "\nA data.frame: 12 × 4\n\n| Office Location &lt;chr&gt; | Total_Ideas &lt;int&gt; | Approved_Ideas &lt;int&gt; | Approval_Rate &lt;dbl&gt; |\n|---|---|---|---|\n| South Africa | 260 | 107 | 41.15 |\n| Brazil       | 227 |  86 | 37.89 |\n| USA          | 241 |  90 | 37.34 |\n| Germany      | 252 |  91 | 36.11 |\n| UK           | 257 |  90 | 35.02 |\n| Canada       | 252 |  87 | 34.52 |\n| China        | 280 |  95 | 33.93 |\n| Mexico       | 240 |  81 | 33.75 |\n| Japan        | 259 |  84 | 32.43 |\n| Australia    | 244 |  79 | 32.38 |\n| India        | 222 |  69 | 31.08 |\n| France       | 266 |  78 | 29.32 |\n\n",
            "text/latex": "A data.frame: 12 × 4\n\\begin{tabular}{llll}\n Office Location & Total\\_Ideas & Approved\\_Ideas & Approval\\_Rate\\\\\n <chr> & <int> & <int> & <dbl>\\\\\n\\hline\n\t South Africa & 260 & 107 & 41.15\\\\\n\t Brazil       & 227 &  86 & 37.89\\\\\n\t USA          & 241 &  90 & 37.34\\\\\n\t Germany      & 252 &  91 & 36.11\\\\\n\t UK           & 257 &  90 & 35.02\\\\\n\t Canada       & 252 &  87 & 34.52\\\\\n\t China        & 280 &  95 & 33.93\\\\\n\t Mexico       & 240 &  81 & 33.75\\\\\n\t Japan        & 259 &  84 & 32.43\\\\\n\t Australia    & 244 &  79 & 32.38\\\\\n\t India        & 222 &  69 & 31.08\\\\\n\t France       & 266 &  78 & 29.32\\\\\n\\end{tabular}\n",
            "text/plain": [
              "   Office Location Total_Ideas Approved_Ideas Approval_Rate\n",
              "1  South Africa    260         107            41.15        \n",
              "2  Brazil          227          86            37.89        \n",
              "3  USA             241          90            37.34        \n",
              "4  Germany         252          91            36.11        \n",
              "5  UK              257          90            35.02        \n",
              "6  Canada          252          87            34.52        \n",
              "7  China           280          95            33.93        \n",
              "8  Mexico          240          81            33.75        \n",
              "9  Japan           259          84            32.43        \n",
              "10 Australia       244          79            32.38        \n",
              "11 India           222          69            31.08        \n",
              "12 France          266          78            29.32        "
            ]
          },
          "metadata": {}
        }
      ]
    },
    {
      "cell_type": "markdown",
      "source": [
        "Regional Participation"
      ],
      "metadata": {
        "id": "GpfLLNl_mVql"
      }
    },
    {
      "cell_type": "code",
      "source": [
        "sqldf(\"SELECT [Office Location], COUNT(*) AS Idea_Count\n",
        "       FROM mydata\n",
        "       GROUP BY [Office Location]\n",
        "       ORDER BY Idea_Count DESC\")\n"
      ],
      "metadata": {
        "colab": {
          "base_uri": "https://localhost:8080/",
          "height": 474
        },
        "id": "-rWgRfLBmGWF",
        "outputId": "0966cdbf-1148-4650-dc81-b44132746489"
      },
      "execution_count": 67,
      "outputs": [
        {
          "output_type": "display_data",
          "data": {
            "text/html": [
              "<table class=\"dataframe\">\n",
              "<caption>A data.frame: 12 × 2</caption>\n",
              "<thead>\n",
              "\t<tr><th scope=col>Office Location</th><th scope=col>Idea_Count</th></tr>\n",
              "\t<tr><th scope=col>&lt;chr&gt;</th><th scope=col>&lt;int&gt;</th></tr>\n",
              "</thead>\n",
              "<tbody>\n",
              "\t<tr><td>China       </td><td>280</td></tr>\n",
              "\t<tr><td>France      </td><td>266</td></tr>\n",
              "\t<tr><td>South Africa</td><td>260</td></tr>\n",
              "\t<tr><td>Japan       </td><td>259</td></tr>\n",
              "\t<tr><td>UK          </td><td>257</td></tr>\n",
              "\t<tr><td>Germany     </td><td>252</td></tr>\n",
              "\t<tr><td>Canada      </td><td>252</td></tr>\n",
              "\t<tr><td>Australia   </td><td>244</td></tr>\n",
              "\t<tr><td>USA         </td><td>241</td></tr>\n",
              "\t<tr><td>Mexico      </td><td>240</td></tr>\n",
              "\t<tr><td>Brazil      </td><td>227</td></tr>\n",
              "\t<tr><td>India       </td><td>222</td></tr>\n",
              "</tbody>\n",
              "</table>\n"
            ],
            "text/markdown": "\nA data.frame: 12 × 2\n\n| Office Location &lt;chr&gt; | Idea_Count &lt;int&gt; |\n|---|---|\n| China        | 280 |\n| France       | 266 |\n| South Africa | 260 |\n| Japan        | 259 |\n| UK           | 257 |\n| Germany      | 252 |\n| Canada       | 252 |\n| Australia    | 244 |\n| USA          | 241 |\n| Mexico       | 240 |\n| Brazil       | 227 |\n| India        | 222 |\n\n",
            "text/latex": "A data.frame: 12 × 2\n\\begin{tabular}{ll}\n Office Location & Idea\\_Count\\\\\n <chr> & <int>\\\\\n\\hline\n\t China        & 280\\\\\n\t France       & 266\\\\\n\t South Africa & 260\\\\\n\t Japan        & 259\\\\\n\t UK           & 257\\\\\n\t Germany      & 252\\\\\n\t Canada       & 252\\\\\n\t Australia    & 244\\\\\n\t USA          & 241\\\\\n\t Mexico       & 240\\\\\n\t Brazil       & 227\\\\\n\t India        & 222\\\\\n\\end{tabular}\n",
            "text/plain": [
              "   Office Location Idea_Count\n",
              "1  China           280       \n",
              "2  France          266       \n",
              "3  South Africa    260       \n",
              "4  Japan           259       \n",
              "5  UK              257       \n",
              "6  Germany         252       \n",
              "7  Canada          252       \n",
              "8  Australia       244       \n",
              "9  USA             241       \n",
              "10 Mexico          240       \n",
              "11 Brazil          227       \n",
              "12 India           222       "
            ]
          },
          "metadata": {}
        }
      ]
    },
    {
      "cell_type": "markdown",
      "source": [
        "Key Innovation Metrics and Optimization"
      ],
      "metadata": {
        "id": "ieF1yP-Tmakm"
      }
    },
    {
      "cell_type": "code",
      "source": [
        "sqldf(\"SELECT [Idea Title], [Number of Votes], [Office Location]\n",
        "       FROM mydata\n",
        "       WHERE [Approval Status] = 'Approved'\n",
        "       ORDER BY [Number of Votes] DESC\n",
        "       LIMIT 5\")\n"
      ],
      "metadata": {
        "colab": {
          "base_uri": "https://localhost:8080/",
          "height": 255
        },
        "id": "I_rH750AmGY7",
        "outputId": "9a6a42dc-38b4-4f75-d321-5955e574a478"
      },
      "execution_count": 68,
      "outputs": [
        {
          "output_type": "display_data",
          "data": {
            "text/html": [
              "<table class=\"dataframe\">\n",
              "<caption>A data.frame: 5 × 3</caption>\n",
              "<thead>\n",
              "\t<tr><th scope=col>Idea Title</th><th scope=col>Number of Votes</th><th scope=col>Office Location</th></tr>\n",
              "\t<tr><th scope=col>&lt;chr&gt;</th><th scope=col>&lt;dbl&gt;</th><th scope=col>&lt;chr&gt;</th></tr>\n",
              "</thead>\n",
              "<tbody>\n",
              "\t<tr><td>Idea 1020</td><td>500</td><td>USA         </td></tr>\n",
              "\t<tr><td>Idea 2310</td><td>499</td><td>USA         </td></tr>\n",
              "\t<tr><td>Idea 1876</td><td>498</td><td>USA         </td></tr>\n",
              "\t<tr><td>Idea 1810</td><td>497</td><td>South Africa</td></tr>\n",
              "\t<tr><td>Idea 2559</td><td>497</td><td>China       </td></tr>\n",
              "</tbody>\n",
              "</table>\n"
            ],
            "text/markdown": "\nA data.frame: 5 × 3\n\n| Idea Title &lt;chr&gt; | Number of Votes &lt;dbl&gt; | Office Location &lt;chr&gt; |\n|---|---|---|\n| Idea 1020 | 500 | USA          |\n| Idea 2310 | 499 | USA          |\n| Idea 1876 | 498 | USA          |\n| Idea 1810 | 497 | South Africa |\n| Idea 2559 | 497 | China        |\n\n",
            "text/latex": "A data.frame: 5 × 3\n\\begin{tabular}{lll}\n Idea Title & Number of Votes & Office Location\\\\\n <chr> & <dbl> & <chr>\\\\\n\\hline\n\t Idea 1020 & 500 & USA         \\\\\n\t Idea 2310 & 499 & USA         \\\\\n\t Idea 1876 & 498 & USA         \\\\\n\t Idea 1810 & 497 & South Africa\\\\\n\t Idea 2559 & 497 & China       \\\\\n\\end{tabular}\n",
            "text/plain": [
              "  Idea Title Number of Votes Office Location\n",
              "1 Idea 1020  500             USA            \n",
              "2 Idea 2310  499             USA            \n",
              "3 Idea 1876  498             USA            \n",
              "4 Idea 1810  497             South Africa   \n",
              "5 Idea 2559  497             China          "
            ]
          },
          "metadata": {}
        }
      ]
    },
    {
      "cell_type": "code",
      "source": [
        "sqldf(\"SELECT [Implementation Status], COUNT(*) AS Count\n",
        "       FROM mydata\n",
        "       GROUP BY [Implementation Status]\")\n"
      ],
      "metadata": {
        "colab": {
          "base_uri": "https://localhost:8080/",
          "height": 192
        },
        "id": "1YdrA7W2mh2p",
        "outputId": "641cdb5b-6d55-4c90-f994-adcabd74d13a"
      },
      "execution_count": 69,
      "outputs": [
        {
          "output_type": "display_data",
          "data": {
            "text/html": [
              "<table class=\"dataframe\">\n",
              "<caption>A data.frame: 3 × 2</caption>\n",
              "<thead>\n",
              "\t<tr><th scope=col>Implementation Status</th><th scope=col>Count</th></tr>\n",
              "\t<tr><th scope=col>&lt;chr&gt;</th><th scope=col>&lt;int&gt;</th></tr>\n",
              "</thead>\n",
              "<tbody>\n",
              "\t<tr><td>Completed  </td><td> 363</td></tr>\n",
              "\t<tr><td>In Progress</td><td> 319</td></tr>\n",
              "\t<tr><td>Not Started</td><td>2318</td></tr>\n",
              "</tbody>\n",
              "</table>\n"
            ],
            "text/markdown": "\nA data.frame: 3 × 2\n\n| Implementation Status &lt;chr&gt; | Count &lt;int&gt; |\n|---|---|\n| Completed   |  363 |\n| In Progress |  319 |\n| Not Started | 2318 |\n\n",
            "text/latex": "A data.frame: 3 × 2\n\\begin{tabular}{ll}\n Implementation Status & Count\\\\\n <chr> & <int>\\\\\n\\hline\n\t Completed   &  363\\\\\n\t In Progress &  319\\\\\n\t Not Started & 2318\\\\\n\\end{tabular}\n",
            "text/plain": [
              "  Implementation Status Count\n",
              "1 Completed              363 \n",
              "2 In Progress            319 \n",
              "3 Not Started           2318 "
            ]
          },
          "metadata": {}
        }
      ]
    },
    {
      "cell_type": "code",
      "source": [
        "sqldf(\"SELECT COUNT(*) AS Security_Flagged_Ideas\n",
        "       FROM mydata\n",
        "       WHERE [Security Concern Flag] = 'Yes'\")\n"
      ],
      "metadata": {
        "colab": {
          "base_uri": "https://localhost:8080/",
          "height": 129
        },
        "id": "m7HS0HlumiCr",
        "outputId": "b66386eb-052d-4b22-a489-fbb419afc7a3"
      },
      "execution_count": 70,
      "outputs": [
        {
          "output_type": "display_data",
          "data": {
            "text/html": [
              "<table class=\"dataframe\">\n",
              "<caption>A data.frame: 1 × 1</caption>\n",
              "<thead>\n",
              "\t<tr><th scope=col>Security_Flagged_Ideas</th></tr>\n",
              "\t<tr><th scope=col>&lt;int&gt;</th></tr>\n",
              "</thead>\n",
              "<tbody>\n",
              "\t<tr><td>267</td></tr>\n",
              "</tbody>\n",
              "</table>\n"
            ],
            "text/markdown": "\nA data.frame: 1 × 1\n\n| Security_Flagged_Ideas &lt;int&gt; |\n|---|\n| 267 |\n\n",
            "text/latex": "A data.frame: 1 × 1\n\\begin{tabular}{l}\n Security\\_Flagged\\_Ideas\\\\\n <int>\\\\\n\\hline\n\t 267\\\\\n\\end{tabular}\n",
            "text/plain": [
              "  Security_Flagged_Ideas\n",
              "1 267                   "
            ]
          },
          "metadata": {}
        }
      ]
    },
    {
      "cell_type": "code",
      "source": [],
      "metadata": {
        "id": "itH2ZbSjrC4f"
      },
      "execution_count": null,
      "outputs": []
    },
    {
      "cell_type": "markdown",
      "source": [
        "#Data Manipulation and Transformation in R: (3 Marks)"
      ],
      "metadata": {
        "id": "ztLqIrktt4S1"
      }
    },
    {
      "cell_type": "markdown",
      "source": [
        "Filter data by Approved Ideas"
      ],
      "metadata": {
        "id": "U-jGefY6rwnZ"
      }
    },
    {
      "cell_type": "code",
      "source": [
        "mydata %>%\n",
        "  filter(`Approval Status` == \"Approved\")\n"
      ],
      "metadata": {
        "colab": {
          "base_uri": "https://localhost:8080/",
          "height": 1000
        },
        "id": "Ok2BSvkurC7c",
        "outputId": "87652f58-4a85-457a-bffa-8570b4a0cd46"
      },
      "execution_count": 99,
      "outputs": [
        {
          "output_type": "display_data",
          "data": {
            "text/html": [
              "<table class=\"dataframe\">\n",
              "<caption>A tibble: 1037 × 11</caption>\n",
              "<thead>\n",
              "\t<tr><th scope=col>Employee ID</th><th scope=col>Office Location</th><th scope=col>Department</th><th scope=col>Idea Submission Date</th><th scope=col>Idea Title</th><th scope=col>Idea Category</th><th scope=col>Number of Votes</th><th scope=col>Collaboration Status</th><th scope=col>Approval Status</th><th scope=col>Implementation Status</th><th scope=col>Security Concern Flag</th></tr>\n",
              "\t<tr><th scope=col>&lt;chr&gt;</th><th scope=col>&lt;chr&gt;</th><th scope=col>&lt;chr&gt;</th><th scope=col>&lt;chr&gt;</th><th scope=col>&lt;chr&gt;</th><th scope=col>&lt;chr&gt;</th><th scope=col>&lt;dbl&gt;</th><th scope=col>&lt;chr&gt;</th><th scope=col>&lt;chr&gt;</th><th scope=col>&lt;chr&gt;</th><th scope=col>&lt;chr&gt;</th></tr>\n",
              "</thead>\n",
              "<tbody>\n",
              "\t<tr><td>0d3e8b8e</td><td>Canada      </td><td>Renewable Energy    </td><td>2024-01-14</td><td>Idea 2  </td><td>Water Management     </td><td>477</td><td>Cross-Regional Team</td><td>Approved</td><td>In Progress</td><td>No </td></tr>\n",
              "\t<tr><td>fa012fe7</td><td>France      </td><td>Environmental Policy</td><td>2025-01-10</td><td>Idea 3  </td><td>Renewable Energy     </td><td> 48</td><td>Cross-Regional Team</td><td>Approved</td><td>Not Started</td><td>Yes</td></tr>\n",
              "\t<tr><td>cb8ed680</td><td>Japan       </td><td>Technology          </td><td>2023-12-24</td><td>Idea 4  </td><td>Circular Economy     </td><td>330</td><td>Cross-Regional Team</td><td>Approved</td><td>Completed  </td><td>No </td></tr>\n",
              "\t<tr><td>333fff26</td><td>Australia   </td><td>Technology          </td><td>2025-02-13</td><td>Idea 5  </td><td>Circular Economy     </td><td>428</td><td>Single Contributor </td><td>Approved</td><td>Not Started</td><td>No </td></tr>\n",
              "\t<tr><td>27febb2d</td><td>Brazil      </td><td>Technology          </td><td>2024-05-17</td><td>Idea 15 </td><td>Sustainable Transport</td><td>425</td><td>Single Contributor </td><td>Approved</td><td>In Progress</td><td>No </td></tr>\n",
              "\t<tr><td>018d372d</td><td>Germany     </td><td>Technology          </td><td>2024-08-16</td><td>Idea 17 </td><td>Water Management     </td><td>  2</td><td>Cross-Regional Team</td><td>Approved</td><td>Completed  </td><td>No </td></tr>\n",
              "\t<tr><td>29971bc8</td><td>Canada      </td><td>Urban Development   </td><td>2023-05-31</td><td>Idea 22 </td><td>Sustainable Transport</td><td>467</td><td>Cross-Regional Team</td><td>Approved</td><td>Not Started</td><td>No </td></tr>\n",
              "\t<tr><td>4a039704</td><td>Australia   </td><td>Renewable Energy    </td><td>2024-01-24</td><td>Idea 24 </td><td>Sustainable Transport</td><td>302</td><td>Single Contributor </td><td>Approved</td><td>Not Started</td><td>No </td></tr>\n",
              "\t<tr><td>5282fcc4</td><td>Canada      </td><td>Urban Development   </td><td>2024-02-10</td><td>Idea 28 </td><td>Circular Economy     </td><td>339</td><td>Single Contributor </td><td>Approved</td><td>In Progress</td><td>No </td></tr>\n",
              "\t<tr><td>25120b55</td><td>UK          </td><td>Technology          </td><td>2024-04-08</td><td>Idea 33 </td><td>Sustainable Transport</td><td>353</td><td>Cross-Regional Team</td><td>Approved</td><td>Completed  </td><td>No </td></tr>\n",
              "\t<tr><td>3d5402e7</td><td>Germany     </td><td>Technology          </td><td>2023-10-29</td><td>Idea 39 </td><td>Water Management     </td><td>433</td><td>Cross-Regional Team</td><td>Approved</td><td>Completed  </td><td>No </td></tr>\n",
              "\t<tr><td>c217bb2d</td><td>USA         </td><td>Infrastructure      </td><td>2023-04-29</td><td>Idea 41 </td><td>Renewable Energy     </td><td>226</td><td>Cross-Regional Team</td><td>Approved</td><td>Not Started</td><td>No </td></tr>\n",
              "\t<tr><td>f0bf0312</td><td>UK          </td><td>Environmental Policy</td><td>2023-09-10</td><td>Idea 46 </td><td>Water Management     </td><td>374</td><td>Cross-Regional Team</td><td>Approved</td><td>In Progress</td><td>No </td></tr>\n",
              "\t<tr><td>4aa3ec97</td><td>Canada      </td><td>Environmental Policy</td><td>2024-11-17</td><td>Idea 47 </td><td>Carbon Capture       </td><td> 41</td><td>Cross-Regional Team</td><td>Approved</td><td>Completed  </td><td>Yes</td></tr>\n",
              "\t<tr><td>d731ea5e</td><td>China       </td><td>Environmental Policy</td><td>2023-08-11</td><td>Idea 48 </td><td>Water Management     </td><td>280</td><td>Cross-Regional Team</td><td>Approved</td><td>In Progress</td><td>No </td></tr>\n",
              "\t<tr><td>b86d3b55</td><td>China       </td><td>Renewable Energy    </td><td>2024-11-10</td><td>Idea 52 </td><td>Carbon Capture       </td><td> 27</td><td>Cross-Regional Team</td><td>Approved</td><td>Completed  </td><td>Yes</td></tr>\n",
              "\t<tr><td>9f54ad58</td><td>UK          </td><td>Infrastructure      </td><td>2025-03-05</td><td>Idea 53 </td><td>Renewable Energy     </td><td>353</td><td>Single Contributor </td><td>Approved</td><td>Completed  </td><td>No </td></tr>\n",
              "\t<tr><td>dabc117b</td><td>France      </td><td>Renewable Energy    </td><td>2023-12-12</td><td>Idea 55 </td><td>Renewable Energy     </td><td>121</td><td>Single Contributor </td><td>Approved</td><td>In Progress</td><td>No </td></tr>\n",
              "\t<tr><td>450dfb3c</td><td>Mexico      </td><td>Urban Development   </td><td>2025-03-05</td><td>Idea 57 </td><td>Water Management     </td><td> 35</td><td>Cross-Regional Team</td><td>Approved</td><td>Not Started</td><td>Yes</td></tr>\n",
              "\t<tr><td>5ae34b22</td><td>South Africa</td><td>Technology          </td><td>2023-10-23</td><td>Idea 63 </td><td>Smart Cities         </td><td> 28</td><td>Single Contributor </td><td>Approved</td><td>Completed  </td><td>No </td></tr>\n",
              "\t<tr><td>5bc62b5d</td><td>China       </td><td>Environmental Policy</td><td>2024-09-26</td><td>Idea 66 </td><td>Carbon Capture       </td><td>118</td><td>Single Contributor </td><td>Approved</td><td>Not Started</td><td>No </td></tr>\n",
              "\t<tr><td>24798d86</td><td>France      </td><td>Research            </td><td>2023-08-24</td><td>Idea 67 </td><td>Renewable Energy     </td><td>128</td><td>Single Contributor </td><td>Approved</td><td>In Progress</td><td>No </td></tr>\n",
              "\t<tr><td>0a7efb59</td><td>Brazil      </td><td>Technology          </td><td>2023-09-03</td><td>Idea 73 </td><td>Carbon Capture       </td><td>393</td><td>Cross-Regional Team</td><td>Approved</td><td>Not Started</td><td>No </td></tr>\n",
              "\t<tr><td>f220f919</td><td>Mexico      </td><td>Infrastructure      </td><td>2024-09-20</td><td>Idea 80 </td><td>Sustainable Transport</td><td>428</td><td>Single Contributor </td><td>Approved</td><td>Not Started</td><td>No </td></tr>\n",
              "\t<tr><td>c9d70db8</td><td>Mexico      </td><td>Research            </td><td>2023-05-29</td><td>Idea 83 </td><td>Circular Economy     </td><td>150</td><td>Cross-Regional Team</td><td>Approved</td><td>In Progress</td><td>No </td></tr>\n",
              "\t<tr><td>fe3be2d2</td><td>France      </td><td>Renewable Energy    </td><td>2024-03-25</td><td>Idea 85 </td><td>Renewable Energy     </td><td> 46</td><td>Cross-Regional Team</td><td>Approved</td><td>Completed  </td><td>No </td></tr>\n",
              "\t<tr><td>d2635fdc</td><td>USA         </td><td>Urban Development   </td><td>2024-01-09</td><td>Idea 92 </td><td>Water Management     </td><td>395</td><td>Cross-Regional Team</td><td>Approved</td><td>Not Started</td><td>No </td></tr>\n",
              "\t<tr><td>5b7a128e</td><td>Japan       </td><td>Research            </td><td>2024-12-10</td><td>Idea 93 </td><td>Renewable Energy     </td><td> 82</td><td>Cross-Regional Team</td><td>Approved</td><td>Completed  </td><td>No </td></tr>\n",
              "\t<tr><td>f0a822d2</td><td>China       </td><td>Infrastructure      </td><td>2024-06-11</td><td>Idea 99 </td><td>Water Management     </td><td>309</td><td>Single Contributor </td><td>Approved</td><td>Not Started</td><td>No </td></tr>\n",
              "\t<tr><td>2b4c7f9b</td><td>Germany     </td><td>Urban Development   </td><td>2023-04-18</td><td>Idea 101</td><td>Sustainable Transport</td><td>164</td><td>Cross-Regional Team</td><td>Approved</td><td>Not Started</td><td>No </td></tr>\n",
              "\t<tr><td>⋮</td><td>⋮</td><td>⋮</td><td>⋮</td><td>⋮</td><td>⋮</td><td>⋮</td><td>⋮</td><td>⋮</td><td>⋮</td><td>⋮</td></tr>\n",
              "\t<tr><td>49ec5d9e</td><td>USA         </td><td>Urban Development   </td><td>2023-05-20</td><td>Idea 2922</td><td>Water Management     </td><td>472</td><td>Cross-Regional Team</td><td>Approved</td><td>In Progress</td><td>No </td></tr>\n",
              "\t<tr><td>e8f1c5b1</td><td>China       </td><td>Renewable Energy    </td><td>2024-07-22</td><td>Idea 2927</td><td>Renewable Energy     </td><td>241</td><td>Single Contributor </td><td>Approved</td><td>Not Started</td><td>No </td></tr>\n",
              "\t<tr><td>117ec709</td><td>South Africa</td><td>Renewable Energy    </td><td>2025-02-22</td><td>Idea 2928</td><td>Sustainable Transport</td><td>241</td><td>Cross-Regional Team</td><td>Approved</td><td>In Progress</td><td>No </td></tr>\n",
              "\t<tr><td>9ccfc39c</td><td>UK          </td><td>Renewable Energy    </td><td>2025-03-07</td><td>Idea 2930</td><td>Sustainable Transport</td><td>325</td><td>Cross-Regional Team</td><td>Approved</td><td>Not Started</td><td>No </td></tr>\n",
              "\t<tr><td>df22719b</td><td>UK          </td><td>Environmental Policy</td><td>2023-06-20</td><td>Idea 2932</td><td>Sustainable Transport</td><td>257</td><td>Cross-Regional Team</td><td>Approved</td><td>Completed  </td><td>No </td></tr>\n",
              "\t<tr><td>3a0285e7</td><td>UK          </td><td>Renewable Energy    </td><td>2024-06-19</td><td>Idea 2933</td><td>Circular Economy     </td><td> 46</td><td>Single Contributor </td><td>Approved</td><td>In Progress</td><td>No </td></tr>\n",
              "\t<tr><td>7a9b583a</td><td>Mexico      </td><td>Infrastructure      </td><td>2024-01-23</td><td>Idea 2935</td><td>Water Management     </td><td>205</td><td>Cross-Regional Team</td><td>Approved</td><td>Completed  </td><td>No </td></tr>\n",
              "\t<tr><td>e2d7ba5e</td><td>Australia   </td><td>Research            </td><td>2023-04-02</td><td>Idea 2936</td><td>Circular Economy     </td><td>176</td><td>Single Contributor </td><td>Approved</td><td>Not Started</td><td>No </td></tr>\n",
              "\t<tr><td>3cbb63e3</td><td>USA         </td><td>Environmental Policy</td><td>2024-01-02</td><td>Idea 2937</td><td>Carbon Capture       </td><td>409</td><td>Single Contributor </td><td>Approved</td><td>Not Started</td><td>Yes</td></tr>\n",
              "\t<tr><td>50462893</td><td>Australia   </td><td>Technology          </td><td>2024-02-22</td><td>Idea 2939</td><td>Water Management     </td><td>492</td><td>Single Contributor </td><td>Approved</td><td>In Progress</td><td>No </td></tr>\n",
              "\t<tr><td>1c21d9af</td><td>Germany     </td><td>Renewable Energy    </td><td>2023-12-25</td><td>Idea 2944</td><td>Water Management     </td><td>185</td><td>Cross-Regional Team</td><td>Approved</td><td>Not Started</td><td>No </td></tr>\n",
              "\t<tr><td>5dd3066d</td><td>South Africa</td><td>Renewable Energy    </td><td>2024-09-18</td><td>Idea 2946</td><td>Circular Economy     </td><td>232</td><td>Cross-Regional Team</td><td>Approved</td><td>Completed  </td><td>No </td></tr>\n",
              "\t<tr><td>bb942ca6</td><td>China       </td><td>Research            </td><td>2023-04-03</td><td>Idea 2947</td><td>Circular Economy     </td><td>339</td><td>Single Contributor </td><td>Approved</td><td>Completed  </td><td>No </td></tr>\n",
              "\t<tr><td>71a520b2</td><td>South Africa</td><td>Renewable Energy    </td><td>2024-05-07</td><td>Idea 2948</td><td>Carbon Capture       </td><td>343</td><td>Single Contributor </td><td>Approved</td><td>Completed  </td><td>No </td></tr>\n",
              "\t<tr><td>db2b1a05</td><td>UK          </td><td>Infrastructure      </td><td>2024-09-27</td><td>Idea 2958</td><td>Smart Cities         </td><td>116</td><td>Single Contributor </td><td>Approved</td><td>Not Started</td><td>No </td></tr>\n",
              "\t<tr><td>979ec152</td><td>Japan       </td><td>Technology          </td><td>2024-08-06</td><td>Idea 2959</td><td>Smart Cities         </td><td>255</td><td>Single Contributor </td><td>Approved</td><td>Completed  </td><td>No </td></tr>\n",
              "\t<tr><td>e1b196c1</td><td>Mexico      </td><td>Renewable Energy    </td><td>2024-02-07</td><td>Idea 2961</td><td>Circular Economy     </td><td>205</td><td>Single Contributor </td><td>Approved</td><td>Not Started</td><td>No </td></tr>\n",
              "\t<tr><td>b39d5b29</td><td>Japan       </td><td>Research            </td><td>2024-04-13</td><td>Idea 2968</td><td>Smart Cities         </td><td>254</td><td>Cross-Regional Team</td><td>Approved</td><td>Completed  </td><td>No </td></tr>\n",
              "\t<tr><td>8b6a9a0c</td><td>France      </td><td>Environmental Policy</td><td>2024-09-30</td><td>Idea 2970</td><td>Smart Cities         </td><td>126</td><td>Cross-Regional Team</td><td>Approved</td><td>Not Started</td><td>No </td></tr>\n",
              "\t<tr><td>0e9ffa6e</td><td>China       </td><td>Infrastructure      </td><td>2024-08-23</td><td>Idea 2971</td><td>Circular Economy     </td><td>293</td><td>Cross-Regional Team</td><td>Approved</td><td>Not Started</td><td>No </td></tr>\n",
              "\t<tr><td>6a6bc3b7</td><td>Japan       </td><td>Urban Development   </td><td>2023-05-15</td><td>Idea 2976</td><td>Renewable Energy     </td><td> 94</td><td>Cross-Regional Team</td><td>Approved</td><td>Completed  </td><td>No </td></tr>\n",
              "\t<tr><td>864f9f3a</td><td>Canada      </td><td>Technology          </td><td>2023-11-15</td><td>Idea 2977</td><td>Sustainable Transport</td><td>409</td><td>Cross-Regional Team</td><td>Approved</td><td>Not Started</td><td>Yes</td></tr>\n",
              "\t<tr><td>95a66cb9</td><td>Brazil      </td><td>Urban Development   </td><td>2024-03-28</td><td>Idea 2979</td><td>Renewable Energy     </td><td>  4</td><td>Cross-Regional Team</td><td>Approved</td><td>Completed  </td><td>No </td></tr>\n",
              "\t<tr><td>70fbd432</td><td>USA         </td><td>Infrastructure      </td><td>2024-10-23</td><td>Idea 2981</td><td>Smart Cities         </td><td>241</td><td>Cross-Regional Team</td><td>Approved</td><td>Not Started</td><td>No </td></tr>\n",
              "\t<tr><td>03f7a920</td><td>Germany     </td><td>Urban Development   </td><td>2025-03-06</td><td>Idea 2982</td><td>Smart Cities         </td><td>253</td><td>Cross-Regional Team</td><td>Approved</td><td>Completed  </td><td>No </td></tr>\n",
              "\t<tr><td>28f0b599</td><td>USA         </td><td>Infrastructure      </td><td>2023-08-22</td><td>Idea 2987</td><td>Smart Cities         </td><td> 65</td><td>Single Contributor </td><td>Approved</td><td>Completed  </td><td>No </td></tr>\n",
              "\t<tr><td>70115414</td><td>Australia   </td><td>Urban Development   </td><td>2024-09-11</td><td>Idea 2993</td><td>Smart Cities         </td><td> 85</td><td>Single Contributor </td><td>Approved</td><td>In Progress</td><td>Yes</td></tr>\n",
              "\t<tr><td>192719d8</td><td>USA         </td><td>Renewable Energy    </td><td>2024-08-26</td><td>Idea 2994</td><td>Carbon Capture       </td><td>334</td><td>Single Contributor </td><td>Approved</td><td>Not Started</td><td>No </td></tr>\n",
              "\t<tr><td>a9214134</td><td>Japan       </td><td>Urban Development   </td><td>2023-10-18</td><td>Idea 2998</td><td>Sustainable Transport</td><td>207</td><td>Single Contributor </td><td>Approved</td><td>Completed  </td><td>No </td></tr>\n",
              "\t<tr><td>f2bf1145</td><td>Japan       </td><td>Environmental Policy</td><td>2024-10-06</td><td>Idea 2999</td><td>Sustainable Transport</td><td>227</td><td>Single Contributor </td><td>Approved</td><td>Completed  </td><td>No </td></tr>\n",
              "</tbody>\n",
              "</table>\n"
            ],
            "text/markdown": "\nA tibble: 1037 × 11\n\n| Employee ID &lt;chr&gt; | Office Location &lt;chr&gt; | Department &lt;chr&gt; | Idea Submission Date &lt;chr&gt; | Idea Title &lt;chr&gt; | Idea Category &lt;chr&gt; | Number of Votes &lt;dbl&gt; | Collaboration Status &lt;chr&gt; | Approval Status &lt;chr&gt; | Implementation Status &lt;chr&gt; | Security Concern Flag &lt;chr&gt; |\n|---|---|---|---|---|---|---|---|---|---|---|\n| 0d3e8b8e | Canada       | Renewable Energy     | 2024-01-14 | Idea 2   | Water Management      | 477 | Cross-Regional Team | Approved | In Progress | No  |\n| fa012fe7 | France       | Environmental Policy | 2025-01-10 | Idea 3   | Renewable Energy      |  48 | Cross-Regional Team | Approved | Not Started | Yes |\n| cb8ed680 | Japan        | Technology           | 2023-12-24 | Idea 4   | Circular Economy      | 330 | Cross-Regional Team | Approved | Completed   | No  |\n| 333fff26 | Australia    | Technology           | 2025-02-13 | Idea 5   | Circular Economy      | 428 | Single Contributor  | Approved | Not Started | No  |\n| 27febb2d | Brazil       | Technology           | 2024-05-17 | Idea 15  | Sustainable Transport | 425 | Single Contributor  | Approved | In Progress | No  |\n| 018d372d | Germany      | Technology           | 2024-08-16 | Idea 17  | Water Management      |   2 | Cross-Regional Team | Approved | Completed   | No  |\n| 29971bc8 | Canada       | Urban Development    | 2023-05-31 | Idea 22  | Sustainable Transport | 467 | Cross-Regional Team | Approved | Not Started | No  |\n| 4a039704 | Australia    | Renewable Energy     | 2024-01-24 | Idea 24  | Sustainable Transport | 302 | Single Contributor  | Approved | Not Started | No  |\n| 5282fcc4 | Canada       | Urban Development    | 2024-02-10 | Idea 28  | Circular Economy      | 339 | Single Contributor  | Approved | In Progress | No  |\n| 25120b55 | UK           | Technology           | 2024-04-08 | Idea 33  | Sustainable Transport | 353 | Cross-Regional Team | Approved | Completed   | No  |\n| 3d5402e7 | Germany      | Technology           | 2023-10-29 | Idea 39  | Water Management      | 433 | Cross-Regional Team | Approved | Completed   | No  |\n| c217bb2d | USA          | Infrastructure       | 2023-04-29 | Idea 41  | Renewable Energy      | 226 | Cross-Regional Team | Approved | Not Started | No  |\n| f0bf0312 | UK           | Environmental Policy | 2023-09-10 | Idea 46  | Water Management      | 374 | Cross-Regional Team | Approved | In Progress | No  |\n| 4aa3ec97 | Canada       | Environmental Policy | 2024-11-17 | Idea 47  | Carbon Capture        |  41 | Cross-Regional Team | Approved | Completed   | Yes |\n| d731ea5e | China        | Environmental Policy | 2023-08-11 | Idea 48  | Water Management      | 280 | Cross-Regional Team | Approved | In Progress | No  |\n| b86d3b55 | China        | Renewable Energy     | 2024-11-10 | Idea 52  | Carbon Capture        |  27 | Cross-Regional Team | Approved | Completed   | Yes |\n| 9f54ad58 | UK           | Infrastructure       | 2025-03-05 | Idea 53  | Renewable Energy      | 353 | Single Contributor  | Approved | Completed   | No  |\n| dabc117b | France       | Renewable Energy     | 2023-12-12 | Idea 55  | Renewable Energy      | 121 | Single Contributor  | Approved | In Progress | No  |\n| 450dfb3c | Mexico       | Urban Development    | 2025-03-05 | Idea 57  | Water Management      |  35 | Cross-Regional Team | Approved | Not Started | Yes |\n| 5ae34b22 | South Africa | Technology           | 2023-10-23 | Idea 63  | Smart Cities          |  28 | Single Contributor  | Approved | Completed   | No  |\n| 5bc62b5d | China        | Environmental Policy | 2024-09-26 | Idea 66  | Carbon Capture        | 118 | Single Contributor  | Approved | Not Started | No  |\n| 24798d86 | France       | Research             | 2023-08-24 | Idea 67  | Renewable Energy      | 128 | Single Contributor  | Approved | In Progress | No  |\n| 0a7efb59 | Brazil       | Technology           | 2023-09-03 | Idea 73  | Carbon Capture        | 393 | Cross-Regional Team | Approved | Not Started | No  |\n| f220f919 | Mexico       | Infrastructure       | 2024-09-20 | Idea 80  | Sustainable Transport | 428 | Single Contributor  | Approved | Not Started | No  |\n| c9d70db8 | Mexico       | Research             | 2023-05-29 | Idea 83  | Circular Economy      | 150 | Cross-Regional Team | Approved | In Progress | No  |\n| fe3be2d2 | France       | Renewable Energy     | 2024-03-25 | Idea 85  | Renewable Energy      |  46 | Cross-Regional Team | Approved | Completed   | No  |\n| d2635fdc | USA          | Urban Development    | 2024-01-09 | Idea 92  | Water Management      | 395 | Cross-Regional Team | Approved | Not Started | No  |\n| 5b7a128e | Japan        | Research             | 2024-12-10 | Idea 93  | Renewable Energy      |  82 | Cross-Regional Team | Approved | Completed   | No  |\n| f0a822d2 | China        | Infrastructure       | 2024-06-11 | Idea 99  | Water Management      | 309 | Single Contributor  | Approved | Not Started | No  |\n| 2b4c7f9b | Germany      | Urban Development    | 2023-04-18 | Idea 101 | Sustainable Transport | 164 | Cross-Regional Team | Approved | Not Started | No  |\n| ⋮ | ⋮ | ⋮ | ⋮ | ⋮ | ⋮ | ⋮ | ⋮ | ⋮ | ⋮ | ⋮ |\n| 49ec5d9e | USA          | Urban Development    | 2023-05-20 | Idea 2922 | Water Management      | 472 | Cross-Regional Team | Approved | In Progress | No  |\n| e8f1c5b1 | China        | Renewable Energy     | 2024-07-22 | Idea 2927 | Renewable Energy      | 241 | Single Contributor  | Approved | Not Started | No  |\n| 117ec709 | South Africa | Renewable Energy     | 2025-02-22 | Idea 2928 | Sustainable Transport | 241 | Cross-Regional Team | Approved | In Progress | No  |\n| 9ccfc39c | UK           | Renewable Energy     | 2025-03-07 | Idea 2930 | Sustainable Transport | 325 | Cross-Regional Team | Approved | Not Started | No  |\n| df22719b | UK           | Environmental Policy | 2023-06-20 | Idea 2932 | Sustainable Transport | 257 | Cross-Regional Team | Approved | Completed   | No  |\n| 3a0285e7 | UK           | Renewable Energy     | 2024-06-19 | Idea 2933 | Circular Economy      |  46 | Single Contributor  | Approved | In Progress | No  |\n| 7a9b583a | Mexico       | Infrastructure       | 2024-01-23 | Idea 2935 | Water Management      | 205 | Cross-Regional Team | Approved | Completed   | No  |\n| e2d7ba5e | Australia    | Research             | 2023-04-02 | Idea 2936 | Circular Economy      | 176 | Single Contributor  | Approved | Not Started | No  |\n| 3cbb63e3 | USA          | Environmental Policy | 2024-01-02 | Idea 2937 | Carbon Capture        | 409 | Single Contributor  | Approved | Not Started | Yes |\n| 50462893 | Australia    | Technology           | 2024-02-22 | Idea 2939 | Water Management      | 492 | Single Contributor  | Approved | In Progress | No  |\n| 1c21d9af | Germany      | Renewable Energy     | 2023-12-25 | Idea 2944 | Water Management      | 185 | Cross-Regional Team | Approved | Not Started | No  |\n| 5dd3066d | South Africa | Renewable Energy     | 2024-09-18 | Idea 2946 | Circular Economy      | 232 | Cross-Regional Team | Approved | Completed   | No  |\n| bb942ca6 | China        | Research             | 2023-04-03 | Idea 2947 | Circular Economy      | 339 | Single Contributor  | Approved | Completed   | No  |\n| 71a520b2 | South Africa | Renewable Energy     | 2024-05-07 | Idea 2948 | Carbon Capture        | 343 | Single Contributor  | Approved | Completed   | No  |\n| db2b1a05 | UK           | Infrastructure       | 2024-09-27 | Idea 2958 | Smart Cities          | 116 | Single Contributor  | Approved | Not Started | No  |\n| 979ec152 | Japan        | Technology           | 2024-08-06 | Idea 2959 | Smart Cities          | 255 | Single Contributor  | Approved | Completed   | No  |\n| e1b196c1 | Mexico       | Renewable Energy     | 2024-02-07 | Idea 2961 | Circular Economy      | 205 | Single Contributor  | Approved | Not Started | No  |\n| b39d5b29 | Japan        | Research             | 2024-04-13 | Idea 2968 | Smart Cities          | 254 | Cross-Regional Team | Approved | Completed   | No  |\n| 8b6a9a0c | France       | Environmental Policy | 2024-09-30 | Idea 2970 | Smart Cities          | 126 | Cross-Regional Team | Approved | Not Started | No  |\n| 0e9ffa6e | China        | Infrastructure       | 2024-08-23 | Idea 2971 | Circular Economy      | 293 | Cross-Regional Team | Approved | Not Started | No  |\n| 6a6bc3b7 | Japan        | Urban Development    | 2023-05-15 | Idea 2976 | Renewable Energy      |  94 | Cross-Regional Team | Approved | Completed   | No  |\n| 864f9f3a | Canada       | Technology           | 2023-11-15 | Idea 2977 | Sustainable Transport | 409 | Cross-Regional Team | Approved | Not Started | Yes |\n| 95a66cb9 | Brazil       | Urban Development    | 2024-03-28 | Idea 2979 | Renewable Energy      |   4 | Cross-Regional Team | Approved | Completed   | No  |\n| 70fbd432 | USA          | Infrastructure       | 2024-10-23 | Idea 2981 | Smart Cities          | 241 | Cross-Regional Team | Approved | Not Started | No  |\n| 03f7a920 | Germany      | Urban Development    | 2025-03-06 | Idea 2982 | Smart Cities          | 253 | Cross-Regional Team | Approved | Completed   | No  |\n| 28f0b599 | USA          | Infrastructure       | 2023-08-22 | Idea 2987 | Smart Cities          |  65 | Single Contributor  | Approved | Completed   | No  |\n| 70115414 | Australia    | Urban Development    | 2024-09-11 | Idea 2993 | Smart Cities          |  85 | Single Contributor  | Approved | In Progress | Yes |\n| 192719d8 | USA          | Renewable Energy     | 2024-08-26 | Idea 2994 | Carbon Capture        | 334 | Single Contributor  | Approved | Not Started | No  |\n| a9214134 | Japan        | Urban Development    | 2023-10-18 | Idea 2998 | Sustainable Transport | 207 | Single Contributor  | Approved | Completed   | No  |\n| f2bf1145 | Japan        | Environmental Policy | 2024-10-06 | Idea 2999 | Sustainable Transport | 227 | Single Contributor  | Approved | Completed   | No  |\n\n",
            "text/latex": "A tibble: 1037 × 11\n\\begin{tabular}{lllllllllll}\n Employee ID & Office Location & Department & Idea Submission Date & Idea Title & Idea Category & Number of Votes & Collaboration Status & Approval Status & Implementation Status & Security Concern Flag\\\\\n <chr> & <chr> & <chr> & <chr> & <chr> & <chr> & <dbl> & <chr> & <chr> & <chr> & <chr>\\\\\n\\hline\n\t 0d3e8b8e & Canada       & Renewable Energy     & 2024-01-14 & Idea 2   & Water Management      & 477 & Cross-Regional Team & Approved & In Progress & No \\\\\n\t fa012fe7 & France       & Environmental Policy & 2025-01-10 & Idea 3   & Renewable Energy      &  48 & Cross-Regional Team & Approved & Not Started & Yes\\\\\n\t cb8ed680 & Japan        & Technology           & 2023-12-24 & Idea 4   & Circular Economy      & 330 & Cross-Regional Team & Approved & Completed   & No \\\\\n\t 333fff26 & Australia    & Technology           & 2025-02-13 & Idea 5   & Circular Economy      & 428 & Single Contributor  & Approved & Not Started & No \\\\\n\t 27febb2d & Brazil       & Technology           & 2024-05-17 & Idea 15  & Sustainable Transport & 425 & Single Contributor  & Approved & In Progress & No \\\\\n\t 018d372d & Germany      & Technology           & 2024-08-16 & Idea 17  & Water Management      &   2 & Cross-Regional Team & Approved & Completed   & No \\\\\n\t 29971bc8 & Canada       & Urban Development    & 2023-05-31 & Idea 22  & Sustainable Transport & 467 & Cross-Regional Team & Approved & Not Started & No \\\\\n\t 4a039704 & Australia    & Renewable Energy     & 2024-01-24 & Idea 24  & Sustainable Transport & 302 & Single Contributor  & Approved & Not Started & No \\\\\n\t 5282fcc4 & Canada       & Urban Development    & 2024-02-10 & Idea 28  & Circular Economy      & 339 & Single Contributor  & Approved & In Progress & No \\\\\n\t 25120b55 & UK           & Technology           & 2024-04-08 & Idea 33  & Sustainable Transport & 353 & Cross-Regional Team & Approved & Completed   & No \\\\\n\t 3d5402e7 & Germany      & Technology           & 2023-10-29 & Idea 39  & Water Management      & 433 & Cross-Regional Team & Approved & Completed   & No \\\\\n\t c217bb2d & USA          & Infrastructure       & 2023-04-29 & Idea 41  & Renewable Energy      & 226 & Cross-Regional Team & Approved & Not Started & No \\\\\n\t f0bf0312 & UK           & Environmental Policy & 2023-09-10 & Idea 46  & Water Management      & 374 & Cross-Regional Team & Approved & In Progress & No \\\\\n\t 4aa3ec97 & Canada       & Environmental Policy & 2024-11-17 & Idea 47  & Carbon Capture        &  41 & Cross-Regional Team & Approved & Completed   & Yes\\\\\n\t d731ea5e & China        & Environmental Policy & 2023-08-11 & Idea 48  & Water Management      & 280 & Cross-Regional Team & Approved & In Progress & No \\\\\n\t b86d3b55 & China        & Renewable Energy     & 2024-11-10 & Idea 52  & Carbon Capture        &  27 & Cross-Regional Team & Approved & Completed   & Yes\\\\\n\t 9f54ad58 & UK           & Infrastructure       & 2025-03-05 & Idea 53  & Renewable Energy      & 353 & Single Contributor  & Approved & Completed   & No \\\\\n\t dabc117b & France       & Renewable Energy     & 2023-12-12 & Idea 55  & Renewable Energy      & 121 & Single Contributor  & Approved & In Progress & No \\\\\n\t 450dfb3c & Mexico       & Urban Development    & 2025-03-05 & Idea 57  & Water Management      &  35 & Cross-Regional Team & Approved & Not Started & Yes\\\\\n\t 5ae34b22 & South Africa & Technology           & 2023-10-23 & Idea 63  & Smart Cities          &  28 & Single Contributor  & Approved & Completed   & No \\\\\n\t 5bc62b5d & China        & Environmental Policy & 2024-09-26 & Idea 66  & Carbon Capture        & 118 & Single Contributor  & Approved & Not Started & No \\\\\n\t 24798d86 & France       & Research             & 2023-08-24 & Idea 67  & Renewable Energy      & 128 & Single Contributor  & Approved & In Progress & No \\\\\n\t 0a7efb59 & Brazil       & Technology           & 2023-09-03 & Idea 73  & Carbon Capture        & 393 & Cross-Regional Team & Approved & Not Started & No \\\\\n\t f220f919 & Mexico       & Infrastructure       & 2024-09-20 & Idea 80  & Sustainable Transport & 428 & Single Contributor  & Approved & Not Started & No \\\\\n\t c9d70db8 & Mexico       & Research             & 2023-05-29 & Idea 83  & Circular Economy      & 150 & Cross-Regional Team & Approved & In Progress & No \\\\\n\t fe3be2d2 & France       & Renewable Energy     & 2024-03-25 & Idea 85  & Renewable Energy      &  46 & Cross-Regional Team & Approved & Completed   & No \\\\\n\t d2635fdc & USA          & Urban Development    & 2024-01-09 & Idea 92  & Water Management      & 395 & Cross-Regional Team & Approved & Not Started & No \\\\\n\t 5b7a128e & Japan        & Research             & 2024-12-10 & Idea 93  & Renewable Energy      &  82 & Cross-Regional Team & Approved & Completed   & No \\\\\n\t f0a822d2 & China        & Infrastructure       & 2024-06-11 & Idea 99  & Water Management      & 309 & Single Contributor  & Approved & Not Started & No \\\\\n\t 2b4c7f9b & Germany      & Urban Development    & 2023-04-18 & Idea 101 & Sustainable Transport & 164 & Cross-Regional Team & Approved & Not Started & No \\\\\n\t ⋮ & ⋮ & ⋮ & ⋮ & ⋮ & ⋮ & ⋮ & ⋮ & ⋮ & ⋮ & ⋮\\\\\n\t 49ec5d9e & USA          & Urban Development    & 2023-05-20 & Idea 2922 & Water Management      & 472 & Cross-Regional Team & Approved & In Progress & No \\\\\n\t e8f1c5b1 & China        & Renewable Energy     & 2024-07-22 & Idea 2927 & Renewable Energy      & 241 & Single Contributor  & Approved & Not Started & No \\\\\n\t 117ec709 & South Africa & Renewable Energy     & 2025-02-22 & Idea 2928 & Sustainable Transport & 241 & Cross-Regional Team & Approved & In Progress & No \\\\\n\t 9ccfc39c & UK           & Renewable Energy     & 2025-03-07 & Idea 2930 & Sustainable Transport & 325 & Cross-Regional Team & Approved & Not Started & No \\\\\n\t df22719b & UK           & Environmental Policy & 2023-06-20 & Idea 2932 & Sustainable Transport & 257 & Cross-Regional Team & Approved & Completed   & No \\\\\n\t 3a0285e7 & UK           & Renewable Energy     & 2024-06-19 & Idea 2933 & Circular Economy      &  46 & Single Contributor  & Approved & In Progress & No \\\\\n\t 7a9b583a & Mexico       & Infrastructure       & 2024-01-23 & Idea 2935 & Water Management      & 205 & Cross-Regional Team & Approved & Completed   & No \\\\\n\t e2d7ba5e & Australia    & Research             & 2023-04-02 & Idea 2936 & Circular Economy      & 176 & Single Contributor  & Approved & Not Started & No \\\\\n\t 3cbb63e3 & USA          & Environmental Policy & 2024-01-02 & Idea 2937 & Carbon Capture        & 409 & Single Contributor  & Approved & Not Started & Yes\\\\\n\t 50462893 & Australia    & Technology           & 2024-02-22 & Idea 2939 & Water Management      & 492 & Single Contributor  & Approved & In Progress & No \\\\\n\t 1c21d9af & Germany      & Renewable Energy     & 2023-12-25 & Idea 2944 & Water Management      & 185 & Cross-Regional Team & Approved & Not Started & No \\\\\n\t 5dd3066d & South Africa & Renewable Energy     & 2024-09-18 & Idea 2946 & Circular Economy      & 232 & Cross-Regional Team & Approved & Completed   & No \\\\\n\t bb942ca6 & China        & Research             & 2023-04-03 & Idea 2947 & Circular Economy      & 339 & Single Contributor  & Approved & Completed   & No \\\\\n\t 71a520b2 & South Africa & Renewable Energy     & 2024-05-07 & Idea 2948 & Carbon Capture        & 343 & Single Contributor  & Approved & Completed   & No \\\\\n\t db2b1a05 & UK           & Infrastructure       & 2024-09-27 & Idea 2958 & Smart Cities          & 116 & Single Contributor  & Approved & Not Started & No \\\\\n\t 979ec152 & Japan        & Technology           & 2024-08-06 & Idea 2959 & Smart Cities          & 255 & Single Contributor  & Approved & Completed   & No \\\\\n\t e1b196c1 & Mexico       & Renewable Energy     & 2024-02-07 & Idea 2961 & Circular Economy      & 205 & Single Contributor  & Approved & Not Started & No \\\\\n\t b39d5b29 & Japan        & Research             & 2024-04-13 & Idea 2968 & Smart Cities          & 254 & Cross-Regional Team & Approved & Completed   & No \\\\\n\t 8b6a9a0c & France       & Environmental Policy & 2024-09-30 & Idea 2970 & Smart Cities          & 126 & Cross-Regional Team & Approved & Not Started & No \\\\\n\t 0e9ffa6e & China        & Infrastructure       & 2024-08-23 & Idea 2971 & Circular Economy      & 293 & Cross-Regional Team & Approved & Not Started & No \\\\\n\t 6a6bc3b7 & Japan        & Urban Development    & 2023-05-15 & Idea 2976 & Renewable Energy      &  94 & Cross-Regional Team & Approved & Completed   & No \\\\\n\t 864f9f3a & Canada       & Technology           & 2023-11-15 & Idea 2977 & Sustainable Transport & 409 & Cross-Regional Team & Approved & Not Started & Yes\\\\\n\t 95a66cb9 & Brazil       & Urban Development    & 2024-03-28 & Idea 2979 & Renewable Energy      &   4 & Cross-Regional Team & Approved & Completed   & No \\\\\n\t 70fbd432 & USA          & Infrastructure       & 2024-10-23 & Idea 2981 & Smart Cities          & 241 & Cross-Regional Team & Approved & Not Started & No \\\\\n\t 03f7a920 & Germany      & Urban Development    & 2025-03-06 & Idea 2982 & Smart Cities          & 253 & Cross-Regional Team & Approved & Completed   & No \\\\\n\t 28f0b599 & USA          & Infrastructure       & 2023-08-22 & Idea 2987 & Smart Cities          &  65 & Single Contributor  & Approved & Completed   & No \\\\\n\t 70115414 & Australia    & Urban Development    & 2024-09-11 & Idea 2993 & Smart Cities          &  85 & Single Contributor  & Approved & In Progress & Yes\\\\\n\t 192719d8 & USA          & Renewable Energy     & 2024-08-26 & Idea 2994 & Carbon Capture        & 334 & Single Contributor  & Approved & Not Started & No \\\\\n\t a9214134 & Japan        & Urban Development    & 2023-10-18 & Idea 2998 & Sustainable Transport & 207 & Single Contributor  & Approved & Completed   & No \\\\\n\t f2bf1145 & Japan        & Environmental Policy & 2024-10-06 & Idea 2999 & Sustainable Transport & 227 & Single Contributor  & Approved & Completed   & No \\\\\n\\end{tabular}\n",
            "text/plain": [
              "     Employee ID Office Location Department           Idea Submission Date\n",
              "1    0d3e8b8e    Canada          Renewable Energy     2024-01-14          \n",
              "2    fa012fe7    France          Environmental Policy 2025-01-10          \n",
              "3    cb8ed680    Japan           Technology           2023-12-24          \n",
              "4    333fff26    Australia       Technology           2025-02-13          \n",
              "5    27febb2d    Brazil          Technology           2024-05-17          \n",
              "6    018d372d    Germany         Technology           2024-08-16          \n",
              "7    29971bc8    Canada          Urban Development    2023-05-31          \n",
              "8    4a039704    Australia       Renewable Energy     2024-01-24          \n",
              "9    5282fcc4    Canada          Urban Development    2024-02-10          \n",
              "10   25120b55    UK              Technology           2024-04-08          \n",
              "11   3d5402e7    Germany         Technology           2023-10-29          \n",
              "12   c217bb2d    USA             Infrastructure       2023-04-29          \n",
              "13   f0bf0312    UK              Environmental Policy 2023-09-10          \n",
              "14   4aa3ec97    Canada          Environmental Policy 2024-11-17          \n",
              "15   d731ea5e    China           Environmental Policy 2023-08-11          \n",
              "16   b86d3b55    China           Renewable Energy     2024-11-10          \n",
              "17   9f54ad58    UK              Infrastructure       2025-03-05          \n",
              "18   dabc117b    France          Renewable Energy     2023-12-12          \n",
              "19   450dfb3c    Mexico          Urban Development    2025-03-05          \n",
              "20   5ae34b22    South Africa    Technology           2023-10-23          \n",
              "21   5bc62b5d    China           Environmental Policy 2024-09-26          \n",
              "22   24798d86    France          Research             2023-08-24          \n",
              "23   0a7efb59    Brazil          Technology           2023-09-03          \n",
              "24   f220f919    Mexico          Infrastructure       2024-09-20          \n",
              "25   c9d70db8    Mexico          Research             2023-05-29          \n",
              "26   fe3be2d2    France          Renewable Energy     2024-03-25          \n",
              "27   d2635fdc    USA             Urban Development    2024-01-09          \n",
              "28   5b7a128e    Japan           Research             2024-12-10          \n",
              "29   f0a822d2    China           Infrastructure       2024-06-11          \n",
              "30   2b4c7f9b    Germany         Urban Development    2023-04-18          \n",
              "⋮    ⋮           ⋮               ⋮                    ⋮                   \n",
              "1008 49ec5d9e    USA             Urban Development    2023-05-20          \n",
              "1009 e8f1c5b1    China           Renewable Energy     2024-07-22          \n",
              "1010 117ec709    South Africa    Renewable Energy     2025-02-22          \n",
              "1011 9ccfc39c    UK              Renewable Energy     2025-03-07          \n",
              "1012 df22719b    UK              Environmental Policy 2023-06-20          \n",
              "1013 3a0285e7    UK              Renewable Energy     2024-06-19          \n",
              "1014 7a9b583a    Mexico          Infrastructure       2024-01-23          \n",
              "1015 e2d7ba5e    Australia       Research             2023-04-02          \n",
              "1016 3cbb63e3    USA             Environmental Policy 2024-01-02          \n",
              "1017 50462893    Australia       Technology           2024-02-22          \n",
              "1018 1c21d9af    Germany         Renewable Energy     2023-12-25          \n",
              "1019 5dd3066d    South Africa    Renewable Energy     2024-09-18          \n",
              "1020 bb942ca6    China           Research             2023-04-03          \n",
              "1021 71a520b2    South Africa    Renewable Energy     2024-05-07          \n",
              "1022 db2b1a05    UK              Infrastructure       2024-09-27          \n",
              "1023 979ec152    Japan           Technology           2024-08-06          \n",
              "1024 e1b196c1    Mexico          Renewable Energy     2024-02-07          \n",
              "1025 b39d5b29    Japan           Research             2024-04-13          \n",
              "1026 8b6a9a0c    France          Environmental Policy 2024-09-30          \n",
              "1027 0e9ffa6e    China           Infrastructure       2024-08-23          \n",
              "1028 6a6bc3b7    Japan           Urban Development    2023-05-15          \n",
              "1029 864f9f3a    Canada          Technology           2023-11-15          \n",
              "1030 95a66cb9    Brazil          Urban Development    2024-03-28          \n",
              "1031 70fbd432    USA             Infrastructure       2024-10-23          \n",
              "1032 03f7a920    Germany         Urban Development    2025-03-06          \n",
              "1033 28f0b599    USA             Infrastructure       2023-08-22          \n",
              "1034 70115414    Australia       Urban Development    2024-09-11          \n",
              "1035 192719d8    USA             Renewable Energy     2024-08-26          \n",
              "1036 a9214134    Japan           Urban Development    2023-10-18          \n",
              "1037 f2bf1145    Japan           Environmental Policy 2024-10-06          \n",
              "     Idea Title Idea Category         Number of Votes Collaboration Status\n",
              "1    Idea 2     Water Management      477             Cross-Regional Team \n",
              "2    Idea 3     Renewable Energy       48             Cross-Regional Team \n",
              "3    Idea 4     Circular Economy      330             Cross-Regional Team \n",
              "4    Idea 5     Circular Economy      428             Single Contributor  \n",
              "5    Idea 15    Sustainable Transport 425             Single Contributor  \n",
              "6    Idea 17    Water Management        2             Cross-Regional Team \n",
              "7    Idea 22    Sustainable Transport 467             Cross-Regional Team \n",
              "8    Idea 24    Sustainable Transport 302             Single Contributor  \n",
              "9    Idea 28    Circular Economy      339             Single Contributor  \n",
              "10   Idea 33    Sustainable Transport 353             Cross-Regional Team \n",
              "11   Idea 39    Water Management      433             Cross-Regional Team \n",
              "12   Idea 41    Renewable Energy      226             Cross-Regional Team \n",
              "13   Idea 46    Water Management      374             Cross-Regional Team \n",
              "14   Idea 47    Carbon Capture         41             Cross-Regional Team \n",
              "15   Idea 48    Water Management      280             Cross-Regional Team \n",
              "16   Idea 52    Carbon Capture         27             Cross-Regional Team \n",
              "17   Idea 53    Renewable Energy      353             Single Contributor  \n",
              "18   Idea 55    Renewable Energy      121             Single Contributor  \n",
              "19   Idea 57    Water Management       35             Cross-Regional Team \n",
              "20   Idea 63    Smart Cities           28             Single Contributor  \n",
              "21   Idea 66    Carbon Capture        118             Single Contributor  \n",
              "22   Idea 67    Renewable Energy      128             Single Contributor  \n",
              "23   Idea 73    Carbon Capture        393             Cross-Regional Team \n",
              "24   Idea 80    Sustainable Transport 428             Single Contributor  \n",
              "25   Idea 83    Circular Economy      150             Cross-Regional Team \n",
              "26   Idea 85    Renewable Energy       46             Cross-Regional Team \n",
              "27   Idea 92    Water Management      395             Cross-Regional Team \n",
              "28   Idea 93    Renewable Energy       82             Cross-Regional Team \n",
              "29   Idea 99    Water Management      309             Single Contributor  \n",
              "30   Idea 101   Sustainable Transport 164             Cross-Regional Team \n",
              "⋮    ⋮          ⋮                     ⋮               ⋮                   \n",
              "1008 Idea 2922  Water Management      472             Cross-Regional Team \n",
              "1009 Idea 2927  Renewable Energy      241             Single Contributor  \n",
              "1010 Idea 2928  Sustainable Transport 241             Cross-Regional Team \n",
              "1011 Idea 2930  Sustainable Transport 325             Cross-Regional Team \n",
              "1012 Idea 2932  Sustainable Transport 257             Cross-Regional Team \n",
              "1013 Idea 2933  Circular Economy       46             Single Contributor  \n",
              "1014 Idea 2935  Water Management      205             Cross-Regional Team \n",
              "1015 Idea 2936  Circular Economy      176             Single Contributor  \n",
              "1016 Idea 2937  Carbon Capture        409             Single Contributor  \n",
              "1017 Idea 2939  Water Management      492             Single Contributor  \n",
              "1018 Idea 2944  Water Management      185             Cross-Regional Team \n",
              "1019 Idea 2946  Circular Economy      232             Cross-Regional Team \n",
              "1020 Idea 2947  Circular Economy      339             Single Contributor  \n",
              "1021 Idea 2948  Carbon Capture        343             Single Contributor  \n",
              "1022 Idea 2958  Smart Cities          116             Single Contributor  \n",
              "1023 Idea 2959  Smart Cities          255             Single Contributor  \n",
              "1024 Idea 2961  Circular Economy      205             Single Contributor  \n",
              "1025 Idea 2968  Smart Cities          254             Cross-Regional Team \n",
              "1026 Idea 2970  Smart Cities          126             Cross-Regional Team \n",
              "1027 Idea 2971  Circular Economy      293             Cross-Regional Team \n",
              "1028 Idea 2976  Renewable Energy       94             Cross-Regional Team \n",
              "1029 Idea 2977  Sustainable Transport 409             Cross-Regional Team \n",
              "1030 Idea 2979  Renewable Energy        4             Cross-Regional Team \n",
              "1031 Idea 2981  Smart Cities          241             Cross-Regional Team \n",
              "1032 Idea 2982  Smart Cities          253             Cross-Regional Team \n",
              "1033 Idea 2987  Smart Cities           65             Single Contributor  \n",
              "1034 Idea 2993  Smart Cities           85             Single Contributor  \n",
              "1035 Idea 2994  Carbon Capture        334             Single Contributor  \n",
              "1036 Idea 2998  Sustainable Transport 207             Single Contributor  \n",
              "1037 Idea 2999  Sustainable Transport 227             Single Contributor  \n",
              "     Approval Status Implementation Status Security Concern Flag\n",
              "1    Approved        In Progress           No                   \n",
              "2    Approved        Not Started           Yes                  \n",
              "3    Approved        Completed             No                   \n",
              "4    Approved        Not Started           No                   \n",
              "5    Approved        In Progress           No                   \n",
              "6    Approved        Completed             No                   \n",
              "7    Approved        Not Started           No                   \n",
              "8    Approved        Not Started           No                   \n",
              "9    Approved        In Progress           No                   \n",
              "10   Approved        Completed             No                   \n",
              "11   Approved        Completed             No                   \n",
              "12   Approved        Not Started           No                   \n",
              "13   Approved        In Progress           No                   \n",
              "14   Approved        Completed             Yes                  \n",
              "15   Approved        In Progress           No                   \n",
              "16   Approved        Completed             Yes                  \n",
              "17   Approved        Completed             No                   \n",
              "18   Approved        In Progress           No                   \n",
              "19   Approved        Not Started           Yes                  \n",
              "20   Approved        Completed             No                   \n",
              "21   Approved        Not Started           No                   \n",
              "22   Approved        In Progress           No                   \n",
              "23   Approved        Not Started           No                   \n",
              "24   Approved        Not Started           No                   \n",
              "25   Approved        In Progress           No                   \n",
              "26   Approved        Completed             No                   \n",
              "27   Approved        Not Started           No                   \n",
              "28   Approved        Completed             No                   \n",
              "29   Approved        Not Started           No                   \n",
              "30   Approved        Not Started           No                   \n",
              "⋮    ⋮               ⋮                     ⋮                    \n",
              "1008 Approved        In Progress           No                   \n",
              "1009 Approved        Not Started           No                   \n",
              "1010 Approved        In Progress           No                   \n",
              "1011 Approved        Not Started           No                   \n",
              "1012 Approved        Completed             No                   \n",
              "1013 Approved        In Progress           No                   \n",
              "1014 Approved        Completed             No                   \n",
              "1015 Approved        Not Started           No                   \n",
              "1016 Approved        Not Started           Yes                  \n",
              "1017 Approved        In Progress           No                   \n",
              "1018 Approved        Not Started           No                   \n",
              "1019 Approved        Completed             No                   \n",
              "1020 Approved        Completed             No                   \n",
              "1021 Approved        Completed             No                   \n",
              "1022 Approved        Not Started           No                   \n",
              "1023 Approved        Completed             No                   \n",
              "1024 Approved        Not Started           No                   \n",
              "1025 Approved        Completed             No                   \n",
              "1026 Approved        Not Started           No                   \n",
              "1027 Approved        Not Started           No                   \n",
              "1028 Approved        Completed             No                   \n",
              "1029 Approved        Not Started           Yes                  \n",
              "1030 Approved        Completed             No                   \n",
              "1031 Approved        Not Started           No                   \n",
              "1032 Approved        Completed             No                   \n",
              "1033 Approved        Completed             No                   \n",
              "1034 Approved        In Progress           Yes                  \n",
              "1035 Approved        Not Started           No                   \n",
              "1036 Approved        Completed             No                   \n",
              "1037 Approved        Completed             No                   "
            ]
          },
          "metadata": {}
        }
      ]
    },
    {
      "cell_type": "markdown",
      "source": [
        "Count Ideas by Category"
      ],
      "metadata": {
        "id": "wVrVPcKYro9Y"
      }
    },
    {
      "cell_type": "code",
      "source": [
        "mydata %>%\n",
        "  group_by(`Idea Category`) %>%\n",
        "  summarise(Total = n(), AvgVotes = mean(`Number of Votes`))\n"
      ],
      "metadata": {
        "colab": {
          "base_uri": "https://localhost:8080/",
          "height": 286
        },
        "id": "VUqFYh3LrC_H",
        "outputId": "f2349c22-cc07-42c8-cad7-ff832cacd2e4"
      },
      "execution_count": 100,
      "outputs": [
        {
          "output_type": "display_data",
          "data": {
            "text/html": [
              "<table class=\"dataframe\">\n",
              "<caption>A tibble: 6 × 3</caption>\n",
              "<thead>\n",
              "\t<tr><th scope=col>Idea Category</th><th scope=col>Total</th><th scope=col>AvgVotes</th></tr>\n",
              "\t<tr><th scope=col>&lt;chr&gt;</th><th scope=col>&lt;int&gt;</th><th scope=col>&lt;dbl&gt;</th></tr>\n",
              "</thead>\n",
              "<tbody>\n",
              "\t<tr><td>Carbon Capture       </td><td>478</td><td>249.1674</td></tr>\n",
              "\t<tr><td>Circular Economy     </td><td>496</td><td>245.7742</td></tr>\n",
              "\t<tr><td>Renewable Energy     </td><td>533</td><td>247.8480</td></tr>\n",
              "\t<tr><td>Smart Cities         </td><td>489</td><td>244.7526</td></tr>\n",
              "\t<tr><td>Sustainable Transport</td><td>512</td><td>247.0312</td></tr>\n",
              "\t<tr><td>Water Management     </td><td>492</td><td>255.6382</td></tr>\n",
              "</tbody>\n",
              "</table>\n"
            ],
            "text/markdown": "\nA tibble: 6 × 3\n\n| Idea Category &lt;chr&gt; | Total &lt;int&gt; | AvgVotes &lt;dbl&gt; |\n|---|---|---|\n| Carbon Capture        | 478 | 249.1674 |\n| Circular Economy      | 496 | 245.7742 |\n| Renewable Energy      | 533 | 247.8480 |\n| Smart Cities          | 489 | 244.7526 |\n| Sustainable Transport | 512 | 247.0312 |\n| Water Management      | 492 | 255.6382 |\n\n",
            "text/latex": "A tibble: 6 × 3\n\\begin{tabular}{lll}\n Idea Category & Total & AvgVotes\\\\\n <chr> & <int> & <dbl>\\\\\n\\hline\n\t Carbon Capture        & 478 & 249.1674\\\\\n\t Circular Economy      & 496 & 245.7742\\\\\n\t Renewable Energy      & 533 & 247.8480\\\\\n\t Smart Cities          & 489 & 244.7526\\\\\n\t Sustainable Transport & 512 & 247.0312\\\\\n\t Water Management      & 492 & 255.6382\\\\\n\\end{tabular}\n",
            "text/plain": [
              "  Idea Category         Total AvgVotes\n",
              "1 Carbon Capture        478   249.1674\n",
              "2 Circular Economy      496   245.7742\n",
              "3 Renewable Energy      533   247.8480\n",
              "4 Smart Cities          489   244.7526\n",
              "5 Sustainable Transport 512   247.0312\n",
              "6 Water Management      492   255.6382"
            ]
          },
          "metadata": {}
        }
      ]
    },
    {
      "cell_type": "markdown",
      "source": [
        "Top-Voted Idea"
      ],
      "metadata": {
        "id": "8uB43akwrl2b"
      }
    },
    {
      "cell_type": "code",
      "source": [
        "mydata %>%\n",
        "  arrange(desc(`Number of Votes`)) %>%\n",
        "  slice(1)\n"
      ],
      "metadata": {
        "colab": {
          "base_uri": "https://localhost:8080/",
          "height": 181
        },
        "id": "qv3TqsflrDCN",
        "outputId": "3f75b2b2-66cc-4d03-efd6-2ed18b322a72"
      },
      "execution_count": 105,
      "outputs": [
        {
          "output_type": "display_data",
          "data": {
            "text/html": [
              "<table class=\"dataframe\">\n",
              "<caption>A tibble: 1 × 11</caption>\n",
              "<thead>\n",
              "\t<tr><th scope=col>Employee ID</th><th scope=col>Office Location</th><th scope=col>Department</th><th scope=col>Idea Submission Date</th><th scope=col>Idea Title</th><th scope=col>Idea Category</th><th scope=col>Number of Votes</th><th scope=col>Collaboration Status</th><th scope=col>Approval Status</th><th scope=col>Implementation Status</th><th scope=col>Security Concern Flag</th></tr>\n",
              "\t<tr><th scope=col>&lt;chr&gt;</th><th scope=col>&lt;chr&gt;</th><th scope=col>&lt;chr&gt;</th><th scope=col>&lt;chr&gt;</th><th scope=col>&lt;chr&gt;</th><th scope=col>&lt;chr&gt;</th><th scope=col>&lt;dbl&gt;</th><th scope=col>&lt;chr&gt;</th><th scope=col>&lt;chr&gt;</th><th scope=col>&lt;chr&gt;</th><th scope=col>&lt;chr&gt;</th></tr>\n",
              "</thead>\n",
              "<tbody>\n",
              "\t<tr><td>f2105213</td><td>USA</td><td>Infrastructure</td><td>2024-12-20</td><td>Idea 422</td><td>Water Management</td><td>500</td><td>Single Contributor</td><td>Rejected</td><td>Not Started</td><td>No</td></tr>\n",
              "</tbody>\n",
              "</table>\n"
            ],
            "text/markdown": "\nA tibble: 1 × 11\n\n| Employee ID &lt;chr&gt; | Office Location &lt;chr&gt; | Department &lt;chr&gt; | Idea Submission Date &lt;chr&gt; | Idea Title &lt;chr&gt; | Idea Category &lt;chr&gt; | Number of Votes &lt;dbl&gt; | Collaboration Status &lt;chr&gt; | Approval Status &lt;chr&gt; | Implementation Status &lt;chr&gt; | Security Concern Flag &lt;chr&gt; |\n|---|---|---|---|---|---|---|---|---|---|---|\n| f2105213 | USA | Infrastructure | 2024-12-20 | Idea 422 | Water Management | 500 | Single Contributor | Rejected | Not Started | No |\n\n",
            "text/latex": "A tibble: 1 × 11\n\\begin{tabular}{lllllllllll}\n Employee ID & Office Location & Department & Idea Submission Date & Idea Title & Idea Category & Number of Votes & Collaboration Status & Approval Status & Implementation Status & Security Concern Flag\\\\\n <chr> & <chr> & <chr> & <chr> & <chr> & <chr> & <dbl> & <chr> & <chr> & <chr> & <chr>\\\\\n\\hline\n\t f2105213 & USA & Infrastructure & 2024-12-20 & Idea 422 & Water Management & 500 & Single Contributor & Rejected & Not Started & No\\\\\n\\end{tabular}\n",
            "text/plain": [
              "  Employee ID Office Location Department     Idea Submission Date Idea Title\n",
              "1 f2105213    USA             Infrastructure 2024-12-20           Idea 422  \n",
              "  Idea Category    Number of Votes Collaboration Status Approval Status\n",
              "1 Water Management 500             Single Contributor   Rejected       \n",
              "  Implementation Status Security Concern Flag\n",
              "1 Not Started           No                   "
            ]
          },
          "metadata": {}
        }
      ]
    },
    {
      "cell_type": "code",
      "source": [],
      "metadata": {
        "id": "NyyNz6zZpiaQ"
      },
      "execution_count": null,
      "outputs": []
    },
    {
      "cell_type": "markdown",
      "source": [
        "#Data Visualisation in R (3 Marks)"
      ],
      "metadata": {
        "id": "N55V4VoRr4-T"
      }
    },
    {
      "cell_type": "markdown",
      "source": [
        "Bar Chart of Ideas by Category"
      ],
      "metadata": {
        "id": "pdPn8Zlgr7IL"
      }
    },
    {
      "cell_type": "code",
      "source": [
        "library(ggplot2)\n",
        "ideas_by_category <- mydata %>%\n",
        "  group_by(`Idea Category`) %>%\n",
        "  summarise(Total = n(), AvgVotes = mean(`Number of Votes`))\n",
        "\n",
        "ggplot(ideas_by_category, aes(x = `Idea Category`, y = Total, fill = `Idea Category`)) +\n",
        "  geom_bar(stat = \"identity\") +\n",
        "  labs(title = \"Number of Ideas by Category\", y = \"Total Ideas\") +\n",
        "  theme_minimal()"
      ],
      "metadata": {
        "colab": {
          "base_uri": "https://localhost:8080/",
          "height": 437
        },
        "id": "h5Pqnxsepidb",
        "outputId": "f0e257b8-43da-4c15-ab0d-dd1c233a9b2b"
      },
      "execution_count": 109,
      "outputs": [
        {
          "output_type": "display_data",
          "data": {
            "text/plain": [
              "plot without title"
            ],
            "image/png": "[encoded data removed]"
          },
          "metadata": {
            "image/png": {
              "width": 420,
              "height": 420
            }
          }
        }
      ]
    },
    {
      "cell_type": "code",
      "source": [
        "ggplot(mydata, aes(x = `Collaboration Status`, y = `Number of Votes`, fill = `Collaboration Status`)) +\n",
        "  geom_boxplot() +\n",
        "  labs(title = \"Votes by Collaboration Type\") +\n",
        "  theme_minimal()\n"
      ],
      "metadata": {
        "colab": {
          "base_uri": "https://localhost:8080/",
          "height": 437
        },
        "id": "jhQSYcbEpixW",
        "outputId": "668eaeac-ae4e-4791-d561-7066887bd158"
      },
      "execution_count": 110,
      "outputs": [
        {
          "output_type": "display_data",
          "data": {
            "text/plain": [
              "plot without title"
            ],
            "image/png": "[encoded data removed]"
          },
          "metadata": {
            "image/png": {
              "width": 420,
              "height": 420
            }
          }
        }
      ]
    },
    {
      "cell_type": "code",
      "source": [
        "ggplot(mydata, aes(x = `Number of Votes`, fill = `Approval Status`)) +\n",
        "  geom_histogram(binwidth = 10) +\n",
        "  labs(title = \"No. of Votes by Approval Status\", x = \"Approval Status\", y = \"No. of Votesumber of Ideas\") +\n",
        "  theme_minimal()"
      ],
      "metadata": {
        "colab": {
          "base_uri": "https://localhost:8080/",
          "height": 437
        },
        "id": "F3tdBKRVscCQ",
        "outputId": "e66fa274-4983-4aab-f5f2-ae0f5f6b3f55"
      },
      "execution_count": 115,
      "outputs": [
        {
          "output_type": "display_data",
          "data": {
            "text/plain": [
              "plot without title"
            ],
            "image/png": "[encoded data removed]"
          },
          "metadata": {
            "image/png": {
              "width": 420,
              "height": 420
            }
          }
        }
      ]
    }
  ]
}
